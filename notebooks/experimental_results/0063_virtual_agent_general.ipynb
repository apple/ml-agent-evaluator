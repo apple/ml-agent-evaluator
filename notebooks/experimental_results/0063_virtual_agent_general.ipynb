{
 "cells": [
  {
   "cell_type": "code",
   "execution_count": 4,
   "metadata": {},
   "outputs": [],
   "source": [
    "# For licensing see accompanying LICENSE file.\n# Copyright (C) 2025 Apple Inc. All Rights Reserved.\n",
    "import ageval.analysis.post_processing\n",
    "import pathlib\n",
    "import ageval.analysis.data_loader\n",
    "\n",
    "multirun_paths =[\n",
    "    \"../../../project-agent-evaluator-results/2024_08_19_presentation_v5/0010_general_baselines\",\n",
    "    \"../../../project-agent-evaluator-results/2024_08_19_presentation_v5/0110_general_agent\",\n",
    "    \"../../../project-agent-evaluator-results/2024_08_19_presentation_v5/0011_general_baselines_alpacaeval/seed0\",\n",
    "    \"../../../project-agent-evaluator-results/2024_08_19_presentation_v5/0011_general_baselines_alpacaeval/seed1\",\n",
    "    \"../../../project-agent-evaluator-results/2024_08_19_presentation_v5/0011_general_baselines_alpacaeval/seed2\",\n",
    "]\n",
    "\n",
    "multirun_path = \", \".join(multirun_paths)\n",
    "#multirun_path += \", ../../../project-agent-evaluator-results/2024_08_19_presentation_v5/0031_fact_baseline\"\n",
    "\n",
    "annotation_dfs, metric_dfs, results_dict = (\n",
    "        ageval.analysis.data_loader.load_experiments_from_multirun(multirun_path)\n",
    "    )\n",
    "#data_path = \"./data/external/truthful_qa/truthful_qa_400_v2.csv\"\n",
    "#df_an= annotation_dfs[data_path]\n",
    "#df_met = metric_dfs[data_path]\n",
    "\n",
    "AGENT_NAME =\"agent_gpt-4o-2024-05-13_fact_check_code_interpreter_base-basic\"\n",
    "BASE_SAVE_DIR = \"../../../project-agent-evaluator-results/2024_08_19_presentation_v5/0960_general_agent_synth\"\n",
    "\n",
    "paths = []\n",
    "for data_path, df_an in annotation_dfs.items():\n",
    "    df_met = metric_dfs[data_path]\n",
    "    short_data_path = data_path.split(\"/\")[-1].split(\".csv\")[0]\n",
    "    save_dir = f\"{BASE_SAVE_DIR}/{short_data_path}\"\n",
    "    ageval.analysis.post_processing.generate_synth_agent_results(\n",
    "        agent_name=AGENT_NAME, \n",
    "        annotation_df=df_an,\n",
    "        metric_df=df_met, \n",
    "        original_data_path=data_path,\n",
    "        save_dir=save_dir,\n",
    "    )\n",
    "    paths.append(save_dir)"
   ]
  },
  {
   "cell_type": "code",
   "execution_count": 8,
   "metadata": {},
   "outputs": [
    {
     "ename": "SyntaxError",
     "evalue": "invalid syntax. Perhaps you forgot a comma? (432997248.py, line 15)",
     "output_type": "error",
     "traceback": [
      "\u001b[0;36m  Cell \u001b[0;32mIn[8], line 15\u001b[0;36m\u001b[0m\n\u001b[0;31m    save_path=save_dir\u001b[0m\n\u001b[0m              ^\u001b[0m\n\u001b[0;31mSyntaxError\u001b[0m\u001b[0;31m:\u001b[0m invalid syntax. Perhaps you forgot a comma?\n"
     ]
    }
   ],
   "source": [
    "import ageval.experiments.logging\n",
    "\n",
    "save_dir: pathlib.Path = pathlib.Path(BASE_SAVE_DIR) / \"combined_results\"\n",
    "save_dir.mkdir(parents=True, exist_ok=True)\n",
    "\n",
    "multirun_paths = [\n",
    "    \"../../../project-agent-evaluator-results/2024_08_19_presentation_v5/0010_general_baselines\",\n",
    "    \"../../../project-agent-evaluator-results/2024_08_19_presentation_v5/0011_general_baselines_alpacaeval/seed0\",\n",
    "    \"../../../project-agent-evaluator-results/2024_08_19_presentation_v5/0011_general_baselines_alpacaeval/seed1\",\n",
    "    \"../../../project-agent-evaluator-results/2024_08_19_presentation_v5/0011_general_baselines_alpacaeval/seed2\",\n",
    "]\n",
    "\n",
    "ageval.experiments.logging.analyze_combined_results(\n",
    "    \", \".join(paths + multirun_paths), \n",
    "    save_path=save_dir,\n",
    "    models_to_hide=[\"rewardbench_gpt-4o-2024-05-13\", \"agent_gpt-4o-2024-05-13_synthetic_base-rewardbench_gpt-4o-2024-05-13\"],\n",
    "    )"
   ]
  },
  {
   "cell_type": "code",
   "execution_count": null,
   "metadata": {},
   "outputs": [],
   "source": []
  }
 ],
 "metadata": {
  "kernelspec": {
   "display_name": "Python 3 (ipykernel)",
   "language": "python",
   "name": "python3"
  },
  "language_info": {
   "codemirror_mode": {
    "name": "ipython",
    "version": 3
   },
   "file_extension": ".py",
   "mimetype": "text/x-python",
   "name": "python",
   "nbconvert_exporter": "python",
   "pygments_lexer": "ipython3",
   "version": "3.10.0"
  }
 },
 "nbformat": 4,
 "nbformat_minor": 4
}
