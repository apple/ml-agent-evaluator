{
 "cells": [
  {
   "cell_type": "code",
   "execution_count": null,
   "metadata": {},
   "outputs": [],
   "source": [
    "# For licensing see accompanying LICENSE file.\n# Copyright (C) 2025 Apple Inc. All Rights Reserved.\n",
    "import ageval.analysis.post_processing\n",
    "import pathlib\n",
    "import ageval.analysis.data_loader\n",
    "\n",
    "\n",
    "multirun_paths =[\n",
    "    \"../../../project-agent-evaluator-results/2024_08_19_presentation_v5/0410_gsm8k_baseline_alpacaeval\",\n",
    "    \"../../../project-agent-evaluator-results/2024_08_19_presentation_v5/0400_gsm8k_agent\",\n",
    "]\n",
    "multirun_path = \", \".join(multirun_paths)\n",
    "#multirun_path += \", ../../../project-agent-evaluator-results/2024_08_19_presentation_v5/0031_fact_baseline\"\n",
    "\n",
    "annotation_dfs, metric_dfs, results_dict = (\n",
    "        ageval.analysis.data_loader.load_experiments_from_multirun(multirun_path)\n",
    "    )\n",
    "#data_path = \"./data/external/truthful_qa/truthful_qa_400_v2.csv\"\n",
    "#df_an= annotation_dfs[data_path]\n",
    "#df_met = metric_dfs[data_path]\n",
    "\n",
    "AGENT_NAME = \"agent_gpt-4o-2024-05-13_math_checker_base-basic\"\n",
    "BASE_SAVE_DIR = \"../../../project-agent-evaluator-results/2024_08_19_presentation_v5/0950_gsm8k_agent_synth\"\n",
    "\n",
    "paths = []\n",
    "for data_path, df_an in annotation_dfs.items():\n",
    "    df_met = metric_dfs[data_path]\n",
    "    short_data_path = data_path.split(\"/\")[-1].split(\".csv\")[0]\n",
    "    save_dir = f\"{BASE_SAVE_DIR}/{short_data_path}\"\n",
    "    ageval.analysis.post_processing.generate_synth_agent_results(\n",
    "        agent_name=AGENT_NAME, \n",
    "        annotation_df=df_an,\n",
    "        metric_df=df_met, \n",
    "        original_data_path=data_path,\n",
    "        save_dir=save_dir,\n",
    "    )\n",
    "    paths.append(save_dir)"
   ]
  },
  {
   "cell_type": "code",
   "execution_count": null,
   "metadata": {},
   "outputs": [],
   "source": [
    "import ageval.experiments.logging\n",
    "\n",
    "save_dir: pathlib.Path = pathlib.Path(BASE_SAVE_DIR) / \"combined_facts\"\n",
    "save_dir.mkdir(parents=True, exist_ok=True)\n",
    "\n",
    "ageval.experiments.logging.analyze_combined_results(\n",
    "    \", \".join(paths + multirun_paths), \n",
    "    save_path=save_dir\n",
    "    )"
   ]
  },
  {
   "cell_type": "code",
   "execution_count": null,
   "metadata": {},
   "outputs": [],
   "source": [
    "save_dir"
   ]
  },
  {
   "cell_type": "code",
   "execution_count": null,
   "metadata": {},
   "outputs": [],
   "source": []
  }
 ],
 "metadata": {
  "kernelspec": {
   "display_name": "Python 3 (ipykernel)",
   "language": "python",
   "name": "python3"
  },
  "language_info": {
   "codemirror_mode": {
    "name": "ipython",
    "version": 3
   },
   "file_extension": ".py",
   "mimetype": "text/x-python",
   "name": "python",
   "nbconvert_exporter": "python",
   "pygments_lexer": "ipython3",
   "version": "3.10.0"
  }
 },
 "nbformat": 4,
 "nbformat_minor": 4
}
