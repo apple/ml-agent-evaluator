{
 "cells": [
  {
   "cell_type": "code",
   "execution_count": 2,
   "metadata": {},
   "outputs": [
    {
     "name": "stdout",
     "output_type": "stream",
     "text": [
      "Checking for baseline basic_gpt-3.5-turbo-0125\n",
      "Checking for baseline basic_gpt-4o-2024-05-13\n",
      "shown_models ['basic_gpt-3.5-turbo-0125', 'agent_gpt-3.5-turbo-0125_fact-check-code-interpreter_base-basic', 'basic_gpt-4o-2024-05-13', 'agent_gpt-4o-2024-05-13_fact-check-code-interpreter_base-basic']\n"
     ]
    },
    {
     "name": "stderr",
     "output_type": "stream",
     "text": [
      "/home/a_findeis/project-agent-evaluator/env/lib/python3.11/site-packages/matplotlib/ticker.py:2918: RuntimeWarning: invalid value encountered in log10\n",
      "  majorstep_no_exponent = 10 ** (np.log10(majorstep) % 1)\n"
     ]
    },
    {
     "name": "stdout",
     "output_type": "stream",
     "text": [
      "shown_models ['agent_gpt-4o-2024-05-13_fact-check-code-interpreter_base-basic', 'agent_gpt-3.5-turbo-0125_fact-check-code-interpreter_base-basic', 'basic_gpt-3.5-turbo-0125', 'basic_gpt-4o-2024-05-13']\n"
     ]
    },
    {
     "name": "stderr",
     "output_type": "stream",
     "text": [
      "/home/a_findeis/project-agent-evaluator/env/lib/python3.11/site-packages/matplotlib/ticker.py:2918: RuntimeWarning: invalid value encountered in log10\n",
      "  majorstep_no_exponent = 10 ** (np.log10(majorstep) % 1)\n"
     ]
    }
   ],
   "source": [
    "# For licensing see accompanying LICENSE file.\n# Copyright (C) 2025 Apple Inc. All Rights Reserved.\n",
    "import pandas as pd\n",
    "import ageval.experiments.logging\n",
    "import pathlib\n",
    "\n",
    "data_points = [\n",
    "    {\n",
    "        \"model\": \"basic_gpt-4o-2024-05-13\",\n",
    "        \"Agreement rate\": None,\n",
    "        \"Agreement rate (incl NAs)\": None,\n",
    "        \"Agreed\": None,\n",
    "        \"Not agreed\": None,\n",
    "        \"Num text_a evaluator pref\": None,\n",
    "        \"Num text_b evaluator pref\": None,\n",
    "        \"No evaluator annotation available\": None,\n",
    "        \"Not avail.\": None,\n",
    "        \"Sum\": None,\n",
    "        \"Agreed (%)\": 28.39,\n",
    "        \"Not agreed (%)\": 0.0,\n",
    "        \"Not avail. (%)\": 0.0\n",
    "    },\n",
    "    {\n",
    "        \"model\": \"basic_gpt-3.5-turbo-0125\",\n",
    "        \"Agreement rate\": None,\n",
    "        \"Agreement rate (incl NAs)\": None,\n",
    "        \"Agreed\": None,\n",
    "        \"Not agreed\": None,\n",
    "        \"Num text_a evaluator pref\": None,\n",
    "        \"Num text_b evaluator pref\": None,\n",
    "        \"No evaluator annotation available\": None,\n",
    "        \"Not avail.\": None,\n",
    "        \"Sum\": None,\n",
    "        \"Agreed (%)\": 46.45,\n",
    "        \"Not agreed (%)\": 0.0,\n",
    "        \"Not avail. (%)\": 0.0\n",
    "    },\n",
    "    {\n",
    "        \"model\": \"agent_gpt-3.5-turbo-0125_fact_check_code_interpreter_base-basic\",\n",
    "        \"Agreement rate\": None,\n",
    "        \"Agreement rate (incl NAs)\": None,\n",
    "        \"Agreed\": None,\n",
    "        \"Not agreed\": None,\n",
    "        \"Num text_a evaluator pref\": None,\n",
    "        \"Num text_b evaluator pref\": None,\n",
    "        \"No evaluator annotation available\": None,\n",
    "        \"Not avail.\": None,\n",
    "        \"Sum\": None,\n",
    "        \"Agreed (%)\": 67.10,\n",
    "        \"Not agreed (%)\": 0.0,\n",
    "        \"Not avail. (%)\": 0.0\n",
    "    },\n",
    "    {\n",
    "        \"model\": \"agent_gpt-4o-2024-05-13_fact_check_code_interpreter_base-basic\",\n",
    "        \"Agreement rate\": None,\n",
    "        \"Agreement rate (incl NAs)\": None,\n",
    "        \"Agreed\": None,\n",
    "        \"Not agreed\": None,\n",
    "        \"Num text_a evaluator pref\": None,\n",
    "        \"Num text_b evaluator pref\": None,\n",
    "        \"No evaluator annotation available\": None,\n",
    "        \"Not avail.\": None,\n",
    "        \"Sum\": None,\n",
    "        \"Agreed (%)\": 72.90,\n",
    "        \"Not agreed (%)\": 0.0,\n",
    "        \"Not avail. (%)\": 0.0\n",
    "    },\n",
    "]\n",
    "\n",
    "human_df = pd.DataFrame(data_points)\n",
    "\n",
    "# create a plot that is average over multiple different datasets\n",
    "# (giving each dataset, not individual datapoint equal weight)\n",
    "\n",
    "exp_parent_dir = pathlib.Path(\"../../../project-agent-evaluator-results/2024_08_19_presentation_v5\")\n",
    "all_result_dirs = [str(exp_parent_dir / \"0930_fact_agent_synth/longfact_v8\"), str(exp_parent_dir / \"0030_fact_baselines\")]\n",
    "all_result_dirs += [\"../../../project-agent-evaluator-results/2024_08_19_presentation_v5/0031_fact_baselines_alpacaeval\",]\n",
    "\n",
    "ageval.experiments.logging.analyze_combined_results(\n",
    "    multirun_path=None, \n",
    "    save_path=exp_parent_dir / \"other_plots\"/ \"apps_manual\",\n",
    "    additional_results=human_df,\n",
    "    num_seeds=1,\n",
    "    dataset_name=\"APPS pairwise\",\n",
    "    dataset_len=310,\n",
    ")"
   ]
  },
  {
   "cell_type": "code",
   "execution_count": null,
   "metadata": {},
   "outputs": [],
   "source": []
  }
 ],
 "metadata": {
  "kernelspec": {
   "display_name": "Python 3 (ipykernel)",
   "language": "python",
   "name": "python3"
  },
  "language_info": {
   "codemirror_mode": {
    "name": "ipython",
    "version": 3
   },
   "file_extension": ".py",
   "mimetype": "text/x-python",
   "name": "python",
   "nbconvert_exporter": "python",
   "pygments_lexer": "ipython3",
   "version": "3.10.0"
  }
 },
 "nbformat": 4,
 "nbformat_minor": 4
}
