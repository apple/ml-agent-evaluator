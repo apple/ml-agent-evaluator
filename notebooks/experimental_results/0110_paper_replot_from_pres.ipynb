{
 "cells": [
  {
   "cell_type": "code",
   "execution_count": null,
   "metadata": {},
   "outputs": [],
   "source": [
    "# For licensing see accompanying LICENSE file.\n# Copyright (C) 2025 Apple Inc. All Rights Reserved.\n",
    "# Notebook for replotting plots from presentation into light background version\n",
    "# for paper\n",
    "\n",
    "import ageval.experiments.logging\n",
    "import pathlib\n",
    "\n",
    "# path to clone of results repo (project-agent-evaluator-results)\n",
    "exp_parent_dir = pathlib.Path(\"../../../project-agent-evaluator-results/2024_08_22_paper_v1\")"
   ]
  },
  {
   "cell_type": "code",
   "execution_count": null,
   "metadata": {},
   "outputs": [],
   "source": [
    "# LongFact and TruthfulQA results\n",
    "\n",
    "all_result_dirs = [\n",
    "    exp_parent_dir / \"0930_fact_agent_synth/longfact_v8\", # all synth agent runs for longfact\n",
    "    exp_parent_dir / \"0930_fact_agent_synth/truthful_qa_400_v2\",  # all synth agent runs for truthfulqa\n",
    "    exp_parent_dir / \"0030_fact_baselines\", # baseline runs\n",
    "    exp_parent_dir / \"0031_fact_baselines_alpacaeval\", # alpacaeval baseline runs\n",
    "]\n",
    "multirun_path = \", \".join([str(result) for result in all_result_dirs])\n",
    "\n",
    "\n",
    "# human annotations\n",
    "import pandas as pd\n",
    "\n",
    "human_data_point = {\n",
    "    \"model\": \"Human (3 annotators)\",\n",
    "    \"Agreement rate\": None,\n",
    "    \"Agreement rate (incl NAs)\": None,\n",
    "    \"Agreed\": None,\n",
    "    \"Not agreed\": None,\n",
    "    \"Num text_a evaluator pref\": None,\n",
    "    \"Num text_b evaluator pref\": None,\n",
    "    \"No evaluator annotation available\": None,\n",
    "    \"Not avail.\": None,\n",
    "    \"Sum\": None,\n",
    "    \"Agreed (%)\": 76.82926829268293,\n",
    "    \"Not agreed (%)\": 0.0,\n",
    "    \"Not avail. (%)\": 0.0\n",
    "}\n",
    "\n",
    "human_df = pd.DataFrame([human_data_point])\n",
    "\n",
    "ageval.experiments.logging.analyze_combined_results(\n",
    "    multirun_path=multirun_path, save_path=exp_parent_dir / \"paper_replotting\", additional_results=human_df,\n",
    "    num_seeds=5,\n",
    ")"
   ]
  },
  {
   "cell_type": "code",
   "execution_count": null,
   "metadata": {},
   "outputs": [],
   "source": [
    "# Maths results (GSM8k)\n",
    "\n",
    "all_result_dirs = [\n",
    "    exp_parent_dir / \"0950_gsm8k_agent_synth/gsm8k_cot_hard\",\n",
    "    exp_parent_dir / \"0400_gsm8k_agent\",\n",
    "    exp_parent_dir / \"0410_gsm8k_baseline_alpacaeval\",\n",
    "]\n",
    "multirun_path = \", \".join([str(result) for result in all_result_dirs])\n",
    "\n",
    "ageval.experiments.logging.analyze_combined_results(multirun_path=multirun_path, save_path=exp_parent_dir / \"paper_replotting\")"
   ]
  },
  {
   "cell_type": "code",
   "execution_count": null,
   "metadata": {},
   "outputs": [],
   "source": [
    "# Coding (APPS)\n",
    "\n",
    "all_result_dirs = [\n",
    "    exp_parent_dir / \"0320_apps_agent_initial\",\n",
    "]\n",
    "multirun_path = \", \".join([str(result) for result in all_result_dirs])\n",
    "\n",
    "ageval.experiments.logging.analyze_combined_results(multirun_path=multirun_path, save_path=exp_parent_dir / \"paper_replotting\")"
   ]
  },
  {
   "cell_type": "code",
   "execution_count": null,
   "metadata": {},
   "outputs": [],
   "source": [
    "# General rewardbench (non-coding, non-maths)\n",
    "\n",
    "def get_subdirs(path):\n",
    "    return list(path.glob(\"*/\"))\n",
    "\n",
    "all_result_dirs = [\n",
    "    exp_parent_dir / \"0010_general_baselines\",\n",
    "    *get_subdirs(exp_parent_dir / \"0011_general_baselines_alpacaeval\"),\n",
    "    *get_subdirs(exp_parent_dir / \"0960_general_agent_synth\"), # note that agent results are in subdirs (1 per dataset)\n",
    "]\n",
    "multirun_path = \", \".join([str(result) for result in all_result_dirs])\n",
    "\n",
    "ageval.experiments.logging.analyze_combined_results(multirun_path=multirun_path, save_path=exp_parent_dir / \"paper_replotting/general/\")"
   ]
  },
  {
   "cell_type": "code",
   "execution_count": null,
   "metadata": {},
   "outputs": [],
   "source": []
  }
 ],
 "metadata": {
  "kernelspec": {
   "display_name": "Python 3 (ipykernel)",
   "language": "python",
   "name": "python3"
  },
  "language_info": {
   "codemirror_mode": {
    "name": "ipython",
    "version": 3
   },
   "file_extension": ".py",
   "mimetype": "text/x-python",
   "name": "python",
   "nbconvert_exporter": "python",
   "pygments_lexer": "ipython3",
   "version": "3.10.0"
  }
 },
 "nbformat": 4,
 "nbformat_minor": 4
}
