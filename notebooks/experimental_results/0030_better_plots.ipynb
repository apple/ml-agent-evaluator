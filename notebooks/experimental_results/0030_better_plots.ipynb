{
 "cells": [
  {
   "cell_type": "code",
   "execution_count": null,
   "metadata": {},
   "outputs": [],
   "source": [
    "# For licensing see accompanying LICENSE file.\n# Copyright (C) 2025 Apple Inc. All Rights Reserved.\n",
    "import ageval.analysis.data_loader\n",
    "import pathlib\n",
    "\n",
    "multirun_path = \"../../data/testing/result_0211_truthfulqa_test\"\n",
    "\n",
    "exp_parent_dir = pathlib.Path(\"../../../project-agent-evaluator-results/2024_08_19_presentation_v3\")\n",
    "\n",
    "all_result_dirs = \", \".join([str(exp_parent_dir / \"0110_general_agent\"), str(exp_parent_dir / \"0010_general_baselines\")])\n",
    "\n",
    "annotation_dfs, metric_dfs, results_dict = (\n",
    "        ageval.analysis.data_loader.load_experiments_from_multirun(all_result_dirs)\n",
    "    )"
   ]
  },
  {
   "cell_type": "code",
   "execution_count": null,
   "metadata": {},
   "outputs": [],
   "source": [
    "import pandas as pd\n",
    "\n",
    "def get_average_metric_df(metric_dfs: dict[pd.DataFrame]) -> pd.DataFrame:\n",
    "    initial_df = list(metric_dfs.values())[0].sort_values([\"model\"]).copy()\n",
    "    average_df = None\n",
    "    num_datasets = len(metric_dfs)\n",
    "    ncols = initial_df.select_dtypes(\"number\").columns\n",
    "\n",
    "    for i, (data_name, df) in enumerate(metric_dfs.items()):\n",
    "\n",
    "        df = df.sort_values([\"model\"])\n",
    "\n",
    "        # check same number of trials for each dataset\n",
    "        assert len(df) == len(initial_df), f\"Problem: {len(df)} vs {len(initial_df)} ({data_name})\"\n",
    "\n",
    "        # check unique model names is identical\n",
    "        assert sorted(initial_df.model.unique()) == sorted(df.model.unique()), f\"Problem: {sorted(initial_df.model.unique())} != {sorted(df.model.unique())}({data_name})\"\n",
    "\n",
    "        assert (initial_df.model.values == df.model.values).all(), f\"Not the same models tested ({i})\\n{initial_df.model.values}\\n{df.model.values}\"\n",
    "\n",
    "        if average_df is None:\n",
    "            average_df = df\n",
    "        else:\n",
    "            average_df[ncols] += df[ncols]\n",
    "\n",
    "    average_df[ncols] = average_df[ncols] / num_datasets\n",
    "\n",
    "    assert (average_df[\"Agreement rate\"] < 1).all()\n",
    "\n",
    "    return average_df\n",
    "\n",
    "\n",
    "\n"
   ]
  },
  {
   "cell_type": "code",
   "execution_count": null,
   "metadata": {},
   "outputs": [],
   "source": [
    "initial_df"
   ]
  },
  {
   "cell_type": "code",
   "execution_count": null,
   "metadata": {},
   "outputs": [],
   "source": [
    "average_df"
   ]
  },
  {
   "cell_type": "code",
   "execution_count": null,
   "metadata": {},
   "outputs": [],
   "source": [
    "from ageval.analysis.plotting import plot_runs\n",
    "\n",
    "plot_runs(metric_df)"
   ]
  },
  {
   "cell_type": "code",
   "execution_count": null,
   "metadata": {},
   "outputs": [],
   "source": [
    "import ageval.analysis.data_loader\n",
    "\n",
    "multirun_path = \"../../data/testing/result_0211_truthfulqa_test\"\n",
    "\n",
    "annotation_dfs, metric_dfs, results_dict = (\n",
    "        ageval.analysis.data_loader.load_experiments_from_multirun(multirun_path)\n",
    "    )"
   ]
  },
  {
   "cell_type": "code",
   "execution_count": null,
   "metadata": {},
   "outputs": [],
   "source": [
    "df = metric_dfs[\"./data/external/truthful_qa/truthful_qa_5.csv\"]\n",
    "num_cols = df.select_dtypes(\"number\").columns\n",
    "df[num_cols] = (df[num_cols] + df[num_cols]) / 2"
   ]
  },
  {
   "cell_type": "code",
   "execution_count": null,
   "metadata": {},
   "outputs": [],
   "source": [
    "df"
   ]
  },
  {
   "cell_type": "code",
   "execution_count": null,
   "metadata": {},
   "outputs": [],
   "source": []
  }
 ],
 "metadata": {
  "kernelspec": {
   "display_name": "Python 3 (ipykernel)",
   "language": "python",
   "name": "python3"
  },
  "language_info": {
   "codemirror_mode": {
    "name": "ipython",
    "version": 3
   },
   "file_extension": ".py",
   "mimetype": "text/x-python",
   "name": "python",
   "nbconvert_exporter": "python",
   "pygments_lexer": "ipython3",
   "version": "3.10.0"
  }
 },
 "nbformat": 4,
 "nbformat_minor": 4
}
