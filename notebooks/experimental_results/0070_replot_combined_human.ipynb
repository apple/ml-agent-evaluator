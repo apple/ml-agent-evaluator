{
 "cells": [
  {
   "cell_type": "code",
   "execution_count": null,
   "metadata": {},
   "outputs": [],
   "source": [
    "# For licensing see accompanying LICENSE file.\n# Copyright (C) 2025 Apple Inc. All Rights Reserved.\n",
    "# get all results in a single path\n",
    "\n",
    "import ageval.experiments.logging\n",
    "\n",
    "\n",
    "import pathlib\n",
    "\n",
    "multirun_path = \"../../multirun/2024-08-17/02-59-06\"\n",
    "\n",
    "ageval.experiments.logging.analyze_combined_results(multirun_path=multirun_path)"
   ]
  },
  {
   "cell_type": "code",
   "execution_count": null,
   "metadata": {},
   "outputs": [],
   "source": [
    "# get all results in a single path\n",
    "\n",
    "import ageval.experiments.logging\n",
    "\n",
    "\n",
    "import pathlib\n",
    "\n",
    "exp_parent_dir = pathlib.Path(\"../../../project-agent-evaluator-results/2024_08_19_presentation_v5\")\n",
    "\n",
    "all_result_dirs = [str(path) for path in list(exp_parent_dir.glob(\"*\"))]\n",
    "\n",
    "ageval.experiments.logging.analyze_combined_results(\", \".join(all_result_dirs), save_path=exp_parent_dir / \"combined\")"
   ]
  },
  {
   "cell_type": "code",
   "execution_count": 1,
   "metadata": {},
   "outputs": [],
   "source": [
    "import pandas as pd\n",
    "\n",
    "human_data_point = {\n",
    "    \"model\": \"Human (3 annotators)\",\n",
    "    \"Agreement rate\": None,\n",
    "    \"Agreement rate (incl NAs)\": None,\n",
    "    \"Agreed\": None,\n",
    "    \"Not agreed\": None,\n",
    "    \"Num text_a evaluator pref\": None,\n",
    "    \"Num text_b evaluator pref\": None,\n",
    "    \"No evaluator annotation available\": None,\n",
    "    \"Not avail.\": None,\n",
    "    \"Sum\": None,\n",
    "    \"Agreed (%)\": 76.82926829268293,\n",
    "    \"Not agreed (%)\": 0.0,\n",
    "    \"Not avail. (%)\": 0.0\n",
    "}\n",
    "\n",
    "human_df = pd.DataFrame([human_data_point])"
   ]
  },
  {
   "cell_type": "code",
   "execution_count": 2,
   "metadata": {},
   "outputs": [
    {
     "name": "stderr",
     "output_type": "stream",
     "text": [
      "\u001b[32m2024-08-18 20:21:16.252\u001b[0m | \u001b[1mINFO    \u001b[0m | \u001b[36mageval.experiments.logging\u001b[0m:\u001b[36manalyze_combined_results\u001b[0m:\u001b[36m64\u001b[0m - \u001b[1mCould not compute average results, skipping this computation.\u001b[0m\n",
      "/home/a_findeis/project-agent-evaluator/src/ageval/experiments/logging.py:72: FutureWarning: The behavior of DataFrame concatenation with empty or all-NA entries is deprecated. In a future version, this will no longer exclude empty or all-NA columns when determining the result dtypes. To retain the old behavior, exclude the relevant entries before the concat operation.\n",
      "  metric_df = pd.concat([metric_df, additional_results])\n",
      "/home/a_findeis/project-agent-evaluator/env/lib/python3.11/site-packages/matplotlib/ticker.py:2918: RuntimeWarning: invalid value encountered in log10\n",
      "  majorstep_no_exponent = 10 ** (np.log10(majorstep) % 1)\n",
      "/home/a_findeis/project-agent-evaluator/env/lib/python3.11/site-packages/matplotlib/ticker.py:2918: RuntimeWarning: invalid value encountered in log10\n",
      "  majorstep_no_exponent = 10 ** (np.log10(majorstep) % 1)\n",
      "/home/a_findeis/project-agent-evaluator/src/ageval/experiments/logging.py:72: FutureWarning: The behavior of DataFrame concatenation with empty or all-NA entries is deprecated. In a future version, this will no longer exclude empty or all-NA columns when determining the result dtypes. To retain the old behavior, exclude the relevant entries before the concat operation.\n",
      "  metric_df = pd.concat([metric_df, additional_results])\n",
      "/home/a_findeis/project-agent-evaluator/env/lib/python3.11/site-packages/matplotlib/ticker.py:2918: RuntimeWarning: invalid value encountered in log10\n",
      "  majorstep_no_exponent = 10 ** (np.log10(majorstep) % 1)\n",
      "/home/a_findeis/project-agent-evaluator/env/lib/python3.11/site-packages/matplotlib/ticker.py:2918: RuntimeWarning: invalid value encountered in log10\n",
      "  majorstep_no_exponent = 10 ** (np.log10(majorstep) % 1)\n"
     ]
    }
   ],
   "source": [
    "# create a plot that is average over multiple different datasets\n",
    "# (giving each dataset, not individual datapoint equal weight)\n",
    "\n",
    "import ageval.experiments.logging\n",
    "import pathlib\n",
    "\n",
    "exp_parent_dir = pathlib.Path(\"../../../project-agent-evaluator-results/2024_08_19_presentation_v5\")\n",
    "all_result_dirs = [str(exp_parent_dir / \"0930_fact_agent_synth/longfact_v8\"), str(exp_parent_dir / \"0030_fact_baselines\")]\n",
    "all_result_dirs += [\"../../../project-agent-evaluator-results/2024_08_19_presentation_v5/0031_fact_baselines_alpacaeval\",]\n",
    "\n",
    "ageval.experiments.logging.analyze_combined_results(\n",
    "    \", \".join(all_result_dirs), \n",
    "    save_path=exp_parent_dir / \"other_plots\"/ \"fact_human\",\n",
    "    additional_results=human_df,\n",
    "    num_seeds=5,\n",
    ")"
   ]
  },
  {
   "cell_type": "code",
   "execution_count": null,
   "metadata": {},
   "outputs": [],
   "source": []
  }
 ],
 "metadata": {
  "kernelspec": {
   "display_name": "Python 3 (ipykernel)",
   "language": "python",
   "name": "python3"
  },
  "language_info": {
   "codemirror_mode": {
    "name": "ipython",
    "version": 3
   },
   "file_extension": ".py",
   "mimetype": "text/x-python",
   "name": "python",
   "nbconvert_exporter": "python",
   "pygments_lexer": "ipython3",
   "version": "3.10.0"
  }
 },
 "nbformat": 4,
 "nbformat_minor": 4
}
