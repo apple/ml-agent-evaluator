{
 "cells": [
  {
   "cell_type": "code",
   "execution_count": null,
   "metadata": {},
   "outputs": [],
   "source": [
    "# For licensing see accompanying LICENSE file.\n# Copyright (C) 2025 Apple Inc. All Rights Reserved.\n",
    "import ageval.analysis.data_loader\n",
    "\n",
    "multirun_path = \"../../data/testing/result_0211_truthfulqa_test\"\n",
    "\n",
    "annotation_dfs, metric_dfs, results_dict = (\n",
    "        ageval.analysis.data_loader.load_experiments_from_multirun(multirun_path)\n",
    "    )\n",
    "\n",
    "metric_df = list(metric_dfs.values())[0]\n",
    "\n",
    "from ageval.analysis.plotting import plot_runs\n",
    "\n",
    "plot_runs(metric_df)"
   ]
  }
 ],
 "metadata": {
  "kernelspec": {
   "display_name": "Python 3 (ipykernel)",
   "language": "python",
   "name": "python3"
  },
  "language_info": {
   "codemirror_mode": {
    "name": "ipython",
    "version": 3
   },
   "file_extension": ".py",
   "mimetype": "text/x-python",
   "name": "python",
   "nbconvert_exporter": "python",
   "pygments_lexer": "ipython3",
   "version": "3.10.0"
  }
 },
 "nbformat": 4,
 "nbformat_minor": 4
}
