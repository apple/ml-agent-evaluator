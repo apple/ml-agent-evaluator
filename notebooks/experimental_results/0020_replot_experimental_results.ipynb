{
 "cells": [
  {
   "cell_type": "code",
   "execution_count": null,
   "metadata": {},
   "outputs": [],
   "source": [
    "# For licensing see accompanying LICENSE file.\n# Copyright (C) 2025 Apple Inc. All Rights Reserved.\n",
    "# get all results in a single path\n",
    "\n",
    "import ageval.experiments.logging\n",
    "\n",
    "\n",
    "import pathlib\n",
    "\n",
    "multirun_path = \"../../multirun/2024-08-17/02-59-06\"\n",
    "\n",
    "ageval.experiments.logging.analyze_combined_results(multirun_path=multirun_path)"
   ]
  },
  {
   "cell_type": "code",
   "execution_count": null,
   "metadata": {},
   "outputs": [],
   "source": [
    "# get all results in a single path\n",
    "\n",
    "import ageval.experiments.logging\n",
    "\n",
    "\n",
    "import pathlib\n",
    "\n",
    "exp_parent_dir = pathlib.Path(\"../../../project-agent-evaluator-results/2024_08_19_presentation_v4\")\n",
    "\n",
    "all_result_dirs = [str(path) for path in list(exp_parent_dir.glob(\"*\"))]\n",
    "\n",
    "ageval.experiments.logging.analyze_combined_results(\", \".join(all_result_dirs), save_path=exp_parent_dir / \"combined\")"
   ]
  },
  {
   "cell_type": "code",
   "execution_count": null,
   "metadata": {},
   "outputs": [],
   "source": [
    "# create a plot that is average over multiple different datasets\n",
    "# (giving each dataset, not individual datapoint equal weight)\n",
    "\n",
    "import ageval.experiments.logging\n",
    "import pathlib\n",
    "\n",
    "exp_parent_dir = pathlib.Path(\"../../../project-agent-evaluator-results/2024_08_19_presentation_v4\")\n",
    "all_result_dirs = [str(exp_parent_dir / \"0130_fact_agent\"), str(exp_parent_dir / \"0030_fact_baseline\")]\n",
    "\n",
    "ageval.experiments.logging.analyze_combined_results(\", \".join(all_result_dirs), save_path=exp_parent_dir / \"combined_fact\")"
   ]
  },
  {
   "cell_type": "code",
   "execution_count": null,
   "metadata": {},
   "outputs": [],
   "source": [
    "import ageval.experiments.logging\n",
    "import pathlib\n",
    "\n",
    "exp_parent_dir = pathlib.Path(\"../../../project-agent-evaluator-results/2024_08_19_presentation_v3\")\n",
    "all_result_dirs = [\n",
    "    str(exp_parent_dir / \"0130_fact_agent\"), \n",
    "    str(exp_parent_dir / \"0030_fact_baselines\")\n",
    "]\n",
    "\n",
    "ageval.experiments.logging.analyze_combined_results(\", \".join(all_result_dirs), save_path=exp_parent_dir / \"combined_fact_check\")"
   ]
  },
  {
   "cell_type": "code",
   "execution_count": 2,
   "metadata": {},
   "outputs": [
    {
     "name": "stderr",
     "output_type": "stream",
     "text": [
      "/home/a_findeis/project-agent-evaluator/env/lib/python3.11/site-packages/matplotlib/ticker.py:2918: RuntimeWarning: invalid value encountered in log10\n",
      "  majorstep_no_exponent = 10 ** (np.log10(majorstep) % 1)\n",
      "/home/a_findeis/project-agent-evaluator/env/lib/python3.11/site-packages/matplotlib/ticker.py:2918: RuntimeWarning: invalid value encountered in log10\n",
      "  majorstep_no_exponent = 10 ** (np.log10(majorstep) % 1)\n",
      "/home/a_findeis/project-agent-evaluator/env/lib/python3.11/site-packages/matplotlib/ticker.py:2918: RuntimeWarning: invalid value encountered in log10\n",
      "  majorstep_no_exponent = 10 ** (np.log10(majorstep) % 1)\n",
      "/home/a_findeis/project-agent-evaluator/env/lib/python3.11/site-packages/matplotlib/ticker.py:2918: RuntimeWarning: invalid value encountered in log10\n",
      "  majorstep_no_exponent = 10 ** (np.log10(majorstep) % 1)\n"
     ]
    }
   ],
   "source": [
    "import ageval.experiments.logging\n",
    "import pathlib\n",
    "\n",
    "exp_parent_dir = pathlib.Path(\"../../../project-agent-evaluator-results/2024_08_19_presentation_v5\")\n",
    "all_result_dirs = [\n",
    "    str(exp_parent_dir / \"0400_maths_gsm8k\"), \n",
    "    # str(exp_parent_dir / \"0030_fact_baselines\")\n",
    "]\n",
    "\n",
    "ageval.experiments.logging.analyze_combined_results(\", \".join(all_result_dirs), save_path=exp_parent_dir / \"0400_maths_gsm8k\")"
   ]
  },
  {
   "cell_type": "code",
   "execution_count": null,
   "metadata": {},
   "outputs": [],
   "source": []
  }
 ],
 "metadata": {
  "kernelspec": {
   "display_name": "Python 3 (ipykernel)",
   "language": "python",
   "name": "python3"
  },
  "language_info": {
   "codemirror_mode": {
    "name": "ipython",
    "version": 3
   },
   "file_extension": ".py",
   "mimetype": "text/x-python",
   "name": "python",
   "nbconvert_exporter": "python",
   "pygments_lexer": "ipython3",
   "version": "3.10.0"
  }
 },
 "nbformat": 4,
 "nbformat_minor": 4
}
