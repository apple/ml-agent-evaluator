{
 "cells": [
  {
   "cell_type": "code",
   "execution_count": null,
   "metadata": {},
   "outputs": [],
   "source": [
    "# For licensing see accompanying LICENSE file.\n# Copyright (C) 2025 Apple Inc. All Rights Reserved."
   ]
  },
  {
   "cell_type": "markdown",
   "metadata": {},
   "source": [
    "# Notebook showing how to (re)plot results from experiment logs \n",
    "\n",
    "By default, ageval generates plot inside the multirun dir for each run. However, sometimes these plots\n",
    "are not exactly what we need for a paper or presentation. This notebook shows how to replot the results\n",
    "to generate the exact plots we want."
   ]
  },
  {
   "cell_type": "code",
   "execution_count": null,
   "metadata": {},
   "outputs": [],
   "source": [
    "import ageval.experiments.logging\n",
    "import pathlib\n",
    "\n",
    "# set path to saved experimental results (used for testing and tutorials)\n",
    "multirun_path = pathlib.Path(\"../../data/testing/result_0211_truthfulqa_test\")\n",
    "output_dir = pathlib.Path(\"./tutorial_outputs\").mkdir(exist_ok=True)\n",
    "\n",
    "# create the new plots\n",
    "ageval.experiments.logging.analyze_combined_results(multirun_path=multirun_path, save_path= \"./tutorial_outputs\")\n",
    "\n",
    "# check out the new plots in the `tutorial_outputs` dir next to this notebook.\n",
    "# Note: no plots will show up here inside the notebook, they have been saved to `tutorial_outputs`."
   ]
  },
  {
   "cell_type": "code",
   "execution_count": null,
   "metadata": {},
   "outputs": [],
   "source": []
  }
 ],
 "metadata": {
  "kernelspec": {
   "display_name": "Python 3 (ipykernel)",
   "language": "python",
   "name": "python3"
  },
  "language_info": {
   "codemirror_mode": {
    "name": "ipython",
    "version": 3
   },
   "file_extension": ".py",
   "mimetype": "text/x-python",
   "name": "python",
   "nbconvert_exporter": "python",
   "pygments_lexer": "ipython3",
   "version": "3.10.0"
  }
 },
 "nbformat": 4,
 "nbformat_minor": 4
}
