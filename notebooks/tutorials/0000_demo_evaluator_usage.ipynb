{
 "cells": [
  {
   "cell_type": "code",
   "execution_count": 1,
   "metadata": {},
   "outputs": [
    {
     "name": "stdout",
     "output_type": "stream",
     "text": [
      "\u001b[31m>>>\u001b[0m DEBUG | \u001b[34m\u001b[1mLoaded API keys from '../../ageval_secrets.toml'.\u001b[0m\n",
      "\u001b[31m>>>\u001b[0m WARNING | \u001b[33m\u001b[1mNo secrets file found at '/home/a_findeis/project-agent-evaluator/notebooks/tutorials/ageval_secrets.toml' or no variable set inside file. Make sure API keys are set in a different way to continue.\u001b[0m\n",
      "\u001b[31m>>>\u001b[0m WARNING | \u001b[33m\u001b[1mNo secrets file found at '/home/a_findeis/project-agent-evaluator/notebooks/tutorials/ageval_secrets.toml' or no variable set inside file. Make sure API keys are set in a different way to continue.\u001b[0m\n",
      "\u001b[31m>>>\u001b[0m DEBUG | \u001b[34m\u001b[1mAgent running tool `fact_check`.\u001b[0m\n",
      "\u001b[31m>>>\u001b[0m WARNING | \u001b[33m\u001b[1mNo secrets file found at '/home/a_findeis/project-agent-evaluator/notebooks/tutorials/ageval_secrets.toml' or no variable set inside file. Make sure API keys are set in a different way to continue.\u001b[0m\n",
      "\u001b[31m>>>\u001b[0m DEBUG | \u001b[34m\u001b[1mStarting fact checking...\u001b[0m\n",
      "\u001b[31m>>>\u001b[0m DEBUG | \u001b[34m\u001b[1mStep 1: generating atomic facts\u001b[0m\n",
      "\u001b[31m>>>\u001b[0m DEBUG | \u001b[34m\u001b[1mAtomic facts generated:\n",
      "  - Apple Intelligence is a real product\n",
      "  - Apple Intelligence is created by Apple\n",
      "\u001b[0m\n",
      "\u001b[31m>>>\u001b[0m DEBUG | \u001b[34m\u001b[1mStep 2: making facts self-contained\u001b[0m\n",
      "\u001b[31m>>>\u001b[0m DEBUG | \u001b[34m\u001b[1mSelf-contained facts:\n",
      "  - Apple Intelligence is a real product--------------→ Apple Intelligence is a real product by Apple.\n",
      "  - Apple Intelligence is created by Apple------------→ Apple Intelligence is created by Apple\n",
      "\u001b[0m\n",
      "\u001b[31m>>>\u001b[0m DEBUG | \u001b[34m\u001b[1mWe have the following statement: Apple Intelligence is a real product by Apple.\n",
      "Come up with a search query for a web search engine that may help check the truthfulness of this statement.\u001b[0m\n",
      "\u001b[31m>>>\u001b[0m DEBUG | \u001b[34m\u001b[1mSearching for query 'Is Apple Intelligence a real product by Apple?'\u001b[0m\n",
      "\u001b[31m>>>\u001b[0m DEBUG | \u001b[34m\u001b[1mWe have the following statement: Apple Intelligence is a real product by Apple.\n",
      "Come up with a search query for a web search engine that may help check the truthfulness of this statement.Please create new search query different from previous queries:\n",
      "```\n",
      "[{'query': 'Is Apple Intelligence a real product by Apple?', 'results': [{'title': 'Apple Intelligence Preview', 'snippet': \"Apple Intelligence is designed to protect your privacy at every step. It's integrated into the core of your iPhone, iPad, and Mac through on-device processing.\", 'url': 'https://www.apple.com/apple-intelligence/', 'domain': 'www.apple.com', 'position': 1}, {'title': 'Introducing Apple Intelligence for iPhone, iPad, and Mac', 'snippet': 'Apple Intelligence is deeply integrated into iOS 18, iPadOS 18, and macOS Sequoia. It harnesses the power of Apple silicon to understand and\\xa0...', 'url': 'https://www.apple.com/newsroom/2024/06/introducing-apple-intelligence-for-iphone-ipad-and-mac/', 'domain': 'www.apple.com', 'position': 2}, {'title': 'Apple Intelligence will be available worldwide to US- ...', 'snippet': 'Update: Apple actually mentioned it in their press release. “Apple Intelligence will be available on iPhone 15 Pro, iPhone 15 Pro Max, and iPad\\xa0...', 'url': 'https://www.reddit.com/r/iphone/comments/1dfjm2r/apple_intelligence_will_be_available_worldwide_to/', 'domain': 'www.reddit.com', 'position': 3}, {'title': \"Introducing Apple's On-Device and Server Foundation ...\", 'snippet': \"Apple Intelligence is comprised of multiple highly-capable generative models that are specialized for our users' everyday tasks, and can adapt\\xa0...\", 'url': 'https://machinelearning.apple.com/research/introducing-apple-foundation-models', 'domain': 'machinelearning.apple.com', 'position': 4}, {'title': \"What is Apple Intelligence? Here's everything you should ...\", 'snippet': 'Apple Intelligence is the personal intelligence system that puts powerful generative models right at the core of your iPhone, iPad, and Mac.', 'url': 'https://9to5mac.com/2024/08/07/what-is-apple-intelligence-heres-how-ai-will-change-the-way-you-use-your-iphone/', 'domain': '9to5mac.com', 'position': 5}]}]\n",
      "```\n",
      "If enough information is available to evaluate the truthfulness of the statement, STOP further searches by returning a json with a True skip_further_searches value.\u001b[0m\n",
      "\u001b[31m>>>\u001b[0m DEBUG | \u001b[34m\u001b[1mSearching for query 'Apple Intelligence official website'\u001b[0m\n",
      "\u001b[31m>>>\u001b[0m DEBUG | \u001b[34m\u001b[1mWe have the following statement: Apple Intelligence is a real product by Apple.\n",
      "Come up with a search query for a web search engine that may help check the truthfulness of this statement.Please create new search query different from previous queries:\n",
      "```\n",
      "[{'query': 'Is Apple Intelligence a real product by Apple?', 'results': [{'title': 'Apple Intelligence Preview', 'snippet': \"Apple Intelligence is designed to protect your privacy at every step. It's integrated into the core of your iPhone, iPad, and Mac through on-device processing.\", 'url': 'https://www.apple.com/apple-intelligence/', 'domain': 'www.apple.com', 'position': 1}, {'title': 'Introducing Apple Intelligence for iPhone, iPad, and Mac', 'snippet': 'Apple Intelligence is deeply integrated into iOS 18, iPadOS 18, and macOS Sequoia. It harnesses the power of Apple silicon to understand and\\xa0...', 'url': 'https://www.apple.com/newsroom/2024/06/introducing-apple-intelligence-for-iphone-ipad-and-mac/', 'domain': 'www.apple.com', 'position': 2}, {'title': 'Apple Intelligence will be available worldwide to US- ...', 'snippet': 'Update: Apple actually mentioned it in their press release. “Apple Intelligence will be available on iPhone 15 Pro, iPhone 15 Pro Max, and iPad\\xa0...', 'url': 'https://www.reddit.com/r/iphone/comments/1dfjm2r/apple_intelligence_will_be_available_worldwide_to/', 'domain': 'www.reddit.com', 'position': 3}, {'title': \"Introducing Apple's On-Device and Server Foundation ...\", 'snippet': \"Apple Intelligence is comprised of multiple highly-capable generative models that are specialized for our users' everyday tasks, and can adapt\\xa0...\", 'url': 'https://machinelearning.apple.com/research/introducing-apple-foundation-models', 'domain': 'machinelearning.apple.com', 'position': 4}, {'title': \"What is Apple Intelligence? Here's everything you should ...\", 'snippet': 'Apple Intelligence is the personal intelligence system that puts powerful generative models right at the core of your iPhone, iPad, and Mac.', 'url': 'https://9to5mac.com/2024/08/07/what-is-apple-intelligence-heres-how-ai-will-change-the-way-you-use-your-iphone/', 'domain': '9to5mac.com', 'position': 5}]}, {'query': 'Apple Intelligence official website', 'results': [{'title': 'Apple Intelligence Preview', 'snippet': \"Apple Intelligence is designed to protect your privacy at every step. It's integrated into the core of your iPhone, iPad, and Mac through on-device processing.\", 'url': 'https://www.apple.com/apple-intelligence/', 'domain': 'www.apple.com', 'position': 1}, {'title': 'Introducing Apple Intelligence for iPhone, iPad, and Mac', 'snippet': 'Introducing Apple Intelligence, the personal intelligence system that puts powerful generative models at the core of iPhone, iPad, and Mac.', 'url': 'https://www.apple.com/newsroom/2024/06/introducing-apple-intelligence-for-iphone-ipad-and-mac/', 'domain': 'www.apple.com', 'position': 2}, {'title': 'Apple Intelligence - Apple Developer', 'snippet': 'Apple Intelligence is the personal intelligence system that puts powerful generative models right at the core of your iPhone, iPad, and Mac and powers\\xa0...', 'url': 'https://developer.apple.com/apple-intelligence/', 'domain': 'developer.apple.com', 'position': 3}, {'title': 'Apple', 'snippet': 'Discover the innovative world of Apple and shop everything iPhone, iPad, Apple Watch, Mac, and Apple TV, plus explore accessories, entertainment,\\xa0...', 'url': 'https://www.apple.com/', 'domain': 'www.apple.com', 'position': 4}, {'title': 'Apple Intelligence', 'snippet': 'Apple Intelligence is the personal intelligence system that puts powerful generative models right at the core of your iPhone, iPad, and Mac and powers\\xa0...', 'url': 'https://forums.developer.apple.com/forums/forums/topics/machine-learning-and-ai/machine-learning-and-ai-topic-apple-intelligence', 'domain': 'forums.developer.apple.com', 'position': 5}]}]\n",
      "```\n",
      "If enough information is available to evaluate the truthfulness of the statement, STOP further searches by returning a json with a True skip_further_searches value.\u001b[0m\n",
      "\u001b[31m>>>\u001b[0m DEBUG | \u001b[34m\u001b[1mSearching for query 'Apple Intelligence product review'\u001b[0m\n",
      "\u001b[31m>>>\u001b[0m DEBUG | \u001b[34m\u001b[1mWe have the following statement: Apple Intelligence is created by Apple\n",
      "Come up with a search query for a web search engine that may help check the truthfulness of this statement.\u001b[0m\n",
      "\u001b[31m>>>\u001b[0m DEBUG | \u001b[34m\u001b[1mSearching for query 'Apple Intelligence created by Apple'\u001b[0m\n",
      "\u001b[31m>>>\u001b[0m DEBUG | \u001b[34m\u001b[1mWe have the following statement: Apple Intelligence is created by Apple\n",
      "Come up with a search query for a web search engine that may help check the truthfulness of this statement.Please create new search query different from previous queries:\n",
      "```\n",
      "[{'query': 'Apple Intelligence created by Apple', 'results': [{'title': 'Apple Intelligence Preview', 'snippet': \"Apple Intelligence is designed to protect your privacy at every step. It's integrated into the core of your iPhone, iPad, and Mac through on-device processing.\", 'url': 'https://www.apple.com/apple-intelligence/', 'domain': 'www.apple.com', 'position': 1}, {'title': 'Apple Intelligence - Apple Developer', 'snippet': 'Apple Intelligence is the personal intelligence system that puts powerful generative models right at the core of your iPhone, iPad, and Mac and powers\\xa0...', 'url': 'https://developer.apple.com/apple-intelligence/', 'domain': 'developer.apple.com', 'position': 2}, {'title': 'Introducing Apple Intelligence for iPhone, iPad, and Mac', 'snippet': 'Introducing Apple Intelligence, the personal intelligence system that puts powerful generative models at the core of iPhone, iPad, and Mac.', 'url': 'https://www.apple.com/newsroom/2024/06/introducing-apple-intelligence-for-iphone-ipad-and-mac/', 'domain': 'www.apple.com', 'position': 3}, {'title': 'Apple Intelligence', 'snippet': 'Apple Intelligence is an artificial intelligence platform developed by Apple Inc. Relying on a combination of on-device and server processing,\\xa0...', 'url': 'https://en.wikipedia.org/wiki/Apple_Intelligence', 'domain': 'en.wikipedia.org', 'position': 4}, {'title': \"Introducing Apple's On-Device and Server Foundation ...\", 'snippet': 'Apple Intelligence is designed with our core values at every step and built on a foundation of groundbreaking privacy innovations.', 'url': 'https://machinelearning.apple.com/research/introducing-apple-foundation-models', 'domain': 'machinelearning.apple.com', 'position': 5}]}]\n",
      "```\n",
      "If enough information is available to evaluate the truthfulness of the statement, STOP further searches by returning a json with a True skip_further_searches value.\u001b[0m\n",
      "\u001b[31m>>>\u001b[0m DEBUG | \u001b[34m\u001b[1mSearching for query 'Apple Intelligence creator'\u001b[0m\n",
      "\u001b[31m>>>\u001b[0m DEBUG | \u001b[34m\u001b[1mWe have the following statement: Apple Intelligence is created by Apple\n",
      "Come up with a search query for a web search engine that may help check the truthfulness of this statement.Please create new search query different from previous queries:\n",
      "```\n",
      "[{'query': 'Apple Intelligence created by Apple', 'results': [{'title': 'Apple Intelligence Preview', 'snippet': \"Apple Intelligence is designed to protect your privacy at every step. It's integrated into the core of your iPhone, iPad, and Mac through on-device processing.\", 'url': 'https://www.apple.com/apple-intelligence/', 'domain': 'www.apple.com', 'position': 1}, {'title': 'Apple Intelligence - Apple Developer', 'snippet': 'Apple Intelligence is the personal intelligence system that puts powerful generative models right at the core of your iPhone, iPad, and Mac and powers\\xa0...', 'url': 'https://developer.apple.com/apple-intelligence/', 'domain': 'developer.apple.com', 'position': 2}, {'title': 'Introducing Apple Intelligence for iPhone, iPad, and Mac', 'snippet': 'Introducing Apple Intelligence, the personal intelligence system that puts powerful generative models at the core of iPhone, iPad, and Mac.', 'url': 'https://www.apple.com/newsroom/2024/06/introducing-apple-intelligence-for-iphone-ipad-and-mac/', 'domain': 'www.apple.com', 'position': 3}, {'title': 'Apple Intelligence', 'snippet': 'Apple Intelligence is an artificial intelligence platform developed by Apple Inc. Relying on a combination of on-device and server processing,\\xa0...', 'url': 'https://en.wikipedia.org/wiki/Apple_Intelligence', 'domain': 'en.wikipedia.org', 'position': 4}, {'title': \"Introducing Apple's On-Device and Server Foundation ...\", 'snippet': 'Apple Intelligence is designed with our core values at every step and built on a foundation of groundbreaking privacy innovations.', 'url': 'https://machinelearning.apple.com/research/introducing-apple-foundation-models', 'domain': 'machinelearning.apple.com', 'position': 5}]}, {'query': 'Apple Intelligence creator', 'results': [{'title': 'Apple Intelligence - Apple Developer', 'snippet': 'Apple Intelligence is the personal intelligence system that puts powerful generative models right at the core of your iPhone, iPad, and Mac and powers\\xa0...', 'url': 'https://developer.apple.com/apple-intelligence/', 'domain': 'developer.apple.com', 'position': 1}, {'title': 'Introducing Apple Intelligence for iPhone, iPad, and Mac', 'snippet': \"Apple Intelligence will transform what users can do with our products — and what our products can do for our users,” said Tim Cook, Apple's CEO.\", 'url': 'https://www.apple.com/newsroom/2024/06/introducing-apple-intelligence-for-iphone-ipad-and-mac/', 'domain': 'www.apple.com', 'position': 2}, {'title': 'Apple Intelligence Preview', 'snippet': 'Built into your iPhone, iPad, and Mac to help you write, express yourself, and get things done effortlessly. Draws on your personal context while setting a\\xa0...', 'url': 'https://www.apple.com/apple-intelligence/', 'domain': 'www.apple.com', 'position': 3}, {'title': \"Apple Intelligence Is the iPhone Maker's New AI System\", 'snippet': 'After teasing its big AI plans, Apple has revealed Apple Intelligence, a new AI system that will be available in iOS 18, iPadOS 18,\\xa0...', 'url': 'https://nordic.ign.com/news/83528/apple-intelligence-is-the-iphone-makers-new-ai-system', 'domain': 'nordic.ign.com', 'position': 4}, {'title': 'Apple Is Bringing A.I. to Your Personal Life, Like It or Not', 'snippet': \"Apple's C.E.O., Tim Cook, described the tool as a “new personal intelligence system,” not simply a tool but a secondary, semi-autonomous brain.\", 'url': 'https://www.newyorker.com/culture/infinite-scroll/apple-is-bringing-ai-to-your-personal-life-like-it-or-not', 'domain': 'www.newyorker.com', 'position': 5}]}]\n",
      "```\n",
      "If enough information is available to evaluate the truthfulness of the statement, STOP further searches by returning a json with a True skip_further_searches value.\u001b[0m\n",
      "\u001b[31m>>>\u001b[0m DEBUG | \u001b[34m\u001b[1mSearching for query 'Apple Intelligence creator'\u001b[0m\n",
      "\u001b[31m>>>\u001b[0m DEBUG | \u001b[34m\u001b[1mFinal truthfulness assessment:\n",
      "  - ✅ Apple Intelligence is a real product by Apple.\n",
      "  - ✅ Apple Intelligence is created by Apple\n",
      "\u001b[0m\n",
      "\u001b[31m>>>\u001b[0m DEBUG | \u001b[34m\u001b[1mAgent running tool `fact_check`.\u001b[0m\n",
      "\u001b[31m>>>\u001b[0m WARNING | \u001b[33m\u001b[1mNo secrets file found at '/home/a_findeis/project-agent-evaluator/notebooks/tutorials/ageval_secrets.toml' or no variable set inside file. Make sure API keys are set in a different way to continue.\u001b[0m\n",
      "\u001b[31m>>>\u001b[0m DEBUG | \u001b[34m\u001b[1mStarting fact checking...\u001b[0m\n",
      "\u001b[31m>>>\u001b[0m DEBUG | \u001b[34m\u001b[1mStep 1: generating atomic facts\u001b[0m\n",
      "\u001b[31m>>>\u001b[0m DEBUG | \u001b[34m\u001b[1mAtomic facts generated:\n",
      "  - Apple has never announced a product called Apple Intelligence.\n",
      "\u001b[0m\n",
      "\u001b[31m>>>\u001b[0m DEBUG | \u001b[34m\u001b[1mStep 2: making facts self-contained\u001b[0m\n",
      "\u001b[31m>>>\u001b[0m DEBUG | \u001b[34m\u001b[1mSelf-contained facts:\n",
      "  - Apple has never announced a product called Apple Intelligence.→ Apple has never announced a product called Apple Intelligence.\n",
      "\u001b[0m\n",
      "\u001b[31m>>>\u001b[0m DEBUG | \u001b[34m\u001b[1mWe have the following statement: Apple has never announced a product called Apple Intelligence.\n",
      "Come up with a search query for a web search engine that may help check the truthfulness of this statement.\u001b[0m\n",
      "\u001b[31m>>>\u001b[0m DEBUG | \u001b[34m\u001b[1mSearching for query 'Apple Intelligence product announcement'\u001b[0m\n",
      "\u001b[31m>>>\u001b[0m DEBUG | \u001b[34m\u001b[1mWe have the following statement: Apple has never announced a product called Apple Intelligence.\n",
      "Come up with a search query for a web search engine that may help check the truthfulness of this statement.Please create new search query different from previous queries:\n",
      "```\n",
      "[{'query': 'Apple Intelligence product announcement', 'results': [{'title': 'Introducing Apple Intelligence for iPhone, iPad, and Mac', 'snippet': 'CUPERTINO, CALIFORNIA Apple today introduced Apple Intelligence, the personal intelligence system for iPhone, iPad, and Mac that combines the\\xa0...', 'url': 'https://www.apple.com/newsroom/2024/06/introducing-apple-intelligence-for-iphone-ipad-and-mac/', 'domain': 'www.apple.com', 'position': 1}, {'title': 'Apple Intelligence Preview', 'snippet': \"Equipped with awareness of your personal context, the ability to take action in and across apps, and product knowledge about your devices' features and settings\\xa0...\", 'url': 'https://www.apple.com/apple-intelligence/', 'domain': 'www.apple.com', 'position': 2}, {'title': 'Apple releases first preview of its long-awaited iPhone AI', 'snippet': \"Apple Intelligence introduced during Apple's WWDC 2024 in Cupertino, California, on June 10, 2024. Source: Apple Inc. Apple on Monday released\\xa0...\", 'url': 'https://www.cnbc.com/2024/07/29/apple-releases-apple-intelligence-its-long-awaited-ai-features.html', 'domain': 'www.cnbc.com', 'position': 3}, {'title': 'Apple Intelligence: every new AI feature coming ...', 'snippet': 'Apple announced “Apple Intelligence” at WWDC 2024, its name for a new suite of AI features for the iPhone, Mac, and more.', 'url': 'https://www.theverge.com/2024/6/10/24175405/wwdc-apple-ai-news-features-ios-18-macos-15-iphone-ipad-mac', 'domain': 'www.theverge.com', 'position': 4}, {'title': \"Apple Intelligence is the company's new generative AI ...\", 'snippet': 'On Monday at WWDC 2024, Apple unveiled Apple Intelligence, its long-awaited, ecosystem-wide push into generative AI.', 'url': 'https://techcrunch.com/2024/06/10/apple-intelligence-is-the-companys-new-generative-ai-offering/', 'domain': 'techcrunch.com', 'position': 5}]}]\n",
      "```\n",
      "If enough information is available to evaluate the truthfulness of the statement, STOP further searches by returning a json with a True skip_further_searches value.\u001b[0m\n",
      "\u001b[31m>>>\u001b[0m DEBUG | \u001b[34m\u001b[1mSearching for query 'Apple Intelligence product announcement history'\u001b[0m\n",
      "\u001b[31m>>>\u001b[0m DEBUG | \u001b[34m\u001b[1mWe have the following statement: Apple has never announced a product called Apple Intelligence.\n",
      "Come up with a search query for a web search engine that may help check the truthfulness of this statement.Please create new search query different from previous queries:\n",
      "```\n",
      "[{'query': 'Apple Intelligence product announcement', 'results': [{'title': 'Introducing Apple Intelligence for iPhone, iPad, and Mac', 'snippet': 'CUPERTINO, CALIFORNIA Apple today introduced Apple Intelligence, the personal intelligence system for iPhone, iPad, and Mac that combines the\\xa0...', 'url': 'https://www.apple.com/newsroom/2024/06/introducing-apple-intelligence-for-iphone-ipad-and-mac/', 'domain': 'www.apple.com', 'position': 1}, {'title': 'Apple Intelligence Preview', 'snippet': \"Equipped with awareness of your personal context, the ability to take action in and across apps, and product knowledge about your devices' features and settings\\xa0...\", 'url': 'https://www.apple.com/apple-intelligence/', 'domain': 'www.apple.com', 'position': 2}, {'title': 'Apple releases first preview of its long-awaited iPhone AI', 'snippet': \"Apple Intelligence introduced during Apple's WWDC 2024 in Cupertino, California, on June 10, 2024. Source: Apple Inc. Apple on Monday released\\xa0...\", 'url': 'https://www.cnbc.com/2024/07/29/apple-releases-apple-intelligence-its-long-awaited-ai-features.html', 'domain': 'www.cnbc.com', 'position': 3}, {'title': 'Apple Intelligence: every new AI feature coming ...', 'snippet': 'Apple announced “Apple Intelligence” at WWDC 2024, its name for a new suite of AI features for the iPhone, Mac, and more.', 'url': 'https://www.theverge.com/2024/6/10/24175405/wwdc-apple-ai-news-features-ios-18-macos-15-iphone-ipad-mac', 'domain': 'www.theverge.com', 'position': 4}, {'title': \"Apple Intelligence is the company's new generative AI ...\", 'snippet': 'On Monday at WWDC 2024, Apple unveiled Apple Intelligence, its long-awaited, ecosystem-wide push into generative AI.', 'url': 'https://techcrunch.com/2024/06/10/apple-intelligence-is-the-companys-new-generative-ai-offering/', 'domain': 'techcrunch.com', 'position': 5}]}, {'query': 'Apple Intelligence product announcement history', 'results': [{'title': 'Introducing Apple Intelligence for iPhone, iPad, and Mac', 'snippet': 'Apple today introduced Apple Intelligence, the personal intelligence system for iPhone, iPad, and Mac.', 'url': 'https://www.apple.com/newsroom/2024/06/introducing-apple-intelligence-for-iphone-ipad-and-mac/', 'domain': 'www.apple.com', 'position': 1}, {'title': \"Apple's 10 biggest innovations, from the first iMac to ... - Quartz\", 'snippet': \"A look at the tech giant's most iconic products, from 1983 through today.\", 'url': 'https://qz.com/apple-product-release-history-imac-ipod-iphone-ai-1851559348', 'domain': 'qz.com', 'position': 2}, {'title': \"Apple bringing 'Apple Intelligence' to its popular products\", 'snippet': \"Apple bringing 'Apple Intelligence' to its popular products ... READ MORE: A timeline of Apple's most influential product announcements.\", 'url': 'https://www.pbs.org/newshour/economy/apple-bringing-apple-intelligence-to-its-popular-products', 'domain': 'www.pbs.org', 'position': 3}, {'title': 'Meet \"Apple Intelligence,\" the iPhone maker\\'s flavor of AI', 'snippet': 'Apple Intelligence will arrive later this year as part of coming operating system updates to the iPhone, iPad and Mac, but early adopters will\\xa0...', 'url': 'https://www.axios.com/2024/06/10/apple-ai-strategy-openai', 'domain': 'www.axios.com', 'position': 4}, {'title': 'Apple Intelligence Preview', 'snippet': 'Apple Intelligence helps you write, express yourself, and get things done effortlessly. All while setting a brand-new standard for privacy in AI.', 'url': 'https://www.apple.com/apple-intelligence/', 'domain': 'www.apple.com', 'position': 5}]}]\n",
      "```\n",
      "If enough information is available to evaluate the truthfulness of the statement, STOP further searches by returning a json with a True skip_further_searches value.\u001b[0m\n",
      "\u001b[31m>>>\u001b[0m DEBUG | \u001b[34m\u001b[1mSearching for query 'Apple Intelligence product announcement history'\u001b[0m\n",
      "\u001b[31m>>>\u001b[0m DEBUG | \u001b[34m\u001b[1mFinal truthfulness assessment:\n",
      "  - ❌ Apple has never announced a product called Apple Intelligence.\n",
      "\u001b[0m\n",
      "\u001b[31m>>>\u001b[0m DEBUG | \u001b[34m\u001b[1mAgent final assessment: preferred text is `text_a`.\u001b[0m\n"
     ]
    }
   ],
   "source": [
    "# For licensing see accompanying LICENSE file.\n# Copyright (C) 2025 Apple Inc. All Rights Reserved.\n",
    "# A simple example of using the pairwise evaluator\n",
    "\n",
    "import ageval.evaluators.agent\n",
    "import ageval.utils\n",
    "\n",
    "# make sure we see the full evluator log\n",
    "# (and that it looks nice)\n",
    "ageval.utils.setup_logger(level=\"DEBUG\")\n",
    "\n",
    "# setup API key from secrets file (see README setup part)\n",
    "ageval.utils.setup_api_keys(\"../../ageval_secrets.toml\")\n",
    "\n",
    "# actually run the evaluator \n",
    "# (on a real task, possibly outside training data)\n",
    "agent_evaluator = ageval.evaluators.agent.PairwiseEvaluatorAgent()\n",
    "result = agent_evaluator.evaluate(\n",
    "    prompt=\"What is Apple Intelligence?\",\n",
    "    text_a=\"Apple Intelligence is a real product by Apple.\",\n",
    "    text_b=\"Apple never announced a product called Apple Intelligence.\"\n",
    ")"
   ]
  },
  {
   "cell_type": "code",
   "execution_count": 2,
   "metadata": {},
   "outputs": [
    {
     "name": "stdout",
     "output_type": "stream",
     "text": [
      "Preferred text: text_a\n",
      "Reasoning: The search results provide multiple sources from Apple's official websites, newsroom, and developer pages confirming the existence of Apple Intelligence as a product integrated into Apple devices. The results also include user reviews and discussions about the product, further supporting its existence.\n"
     ]
    }
   ],
   "source": [
    "# Detailed result inspection\n",
    "print(f\"Preferred text: {result['preferred_text']}\")\n",
    "print(f\"Reasoning: {result['overall_result']['reasoning']}\")"
   ]
  },
  {
   "cell_type": "code",
   "execution_count": 3,
   "metadata": {},
   "outputs": [
    {
     "name": "stdout",
     "output_type": "stream",
     "text": [
      "\u001b[31m>>>\u001b[0m WARNING | \u001b[33m\u001b[1mNo secrets file found at '/home/a_findeis/project-agent-evaluator/notebooks/tutorials/ageval_secrets.toml' or no variable set inside file. Make sure API keys are set in a different way to continue.\u001b[0m\n",
      "\u001b[31m>>>\u001b[0m WARNING | \u001b[33m\u001b[1mNo secrets file found at '/home/a_findeis/project-agent-evaluator/notebooks/tutorials/ageval_secrets.toml' or no variable set inside file. Make sure API keys are set in a different way to continue.\u001b[0m\n",
      "\u001b[31m>>>\u001b[0m WARNING | \u001b[33m\u001b[1mNo secrets file found at '/home/a_findeis/project-agent-evaluator/notebooks/tutorials/ageval_secrets.toml' or no variable set inside file. Make sure API keys are set in a different way to continue.\u001b[0m\n",
      "\u001b[31m>>>\u001b[0m WARNING | \u001b[33m\u001b[1mNo secrets file found at '/home/a_findeis/project-agent-evaluator/notebooks/tutorials/ageval_secrets.toml' or no variable set inside file. Make sure API keys are set in a different way to continue.\u001b[0m\n",
      "\u001b[31m>>>\u001b[0m WARNING | \u001b[33m\u001b[1mNo secrets file found at '/home/a_findeis/project-agent-evaluator/notebooks/tutorials/ageval_secrets.toml' or no variable set inside file. Make sure API keys are set in a different way to continue.\u001b[0m\n"
     ]
    },
    {
     "name": "stderr",
     "output_type": "stream",
     "text": [
      "INFO:root:Creating the annotator from `weighted_alpaca_eval_gpt4_turbo`.\n",
      "INFO:root:Saving annotations to `/home/a_findeis/project-agent-evaluator/env/lib/python3.11/site-packages/alpaca_eval/evaluators_configs/weighted_alpaca_eval_gpt4_turbo/annotations_seed1370115_configs.json`.\n",
      "INFO:dotenv.main:Python-dotenv could not find configuration file /home/a_findeis/project-agent-evaluator/notebooks/tutorials/ageval_secrets.toml.\n",
      "INFO:dotenv.main:Python-dotenv could not find configuration file /home/a_findeis/project-agent-evaluator/notebooks/tutorials/ageval_secrets.toml.\n",
      "INFO:dotenv.main:Python-dotenv could not find configuration file /home/a_findeis/project-agent-evaluator/notebooks/tutorials/ageval_secrets.toml.\n"
     ]
    },
    {
     "data": {
      "text/plain": [
       "<ageval.evaluators.baseline_arenahard.ArenaHardPairwiseEvaluator at 0x7fc752bcbbd0>"
      ]
     },
     "execution_count": 3,
     "metadata": {},
     "output_type": "execute_result"
    }
   ],
   "source": [
    "# Other evaluators that can be used\n",
    "from ageval.evaluators import (\n",
    "    BasicPairwiseEvaluator, \n",
    "    BasicSingleEvaluator, \n",
    "    AlpacaEvalPairwiseEvaluator, \n",
    "    RewardbenchPairwiseEvaluator, \n",
    "    ArenaHardPairwiseEvaluator\n",
    ")\n",
    "BasicSingleEvaluator()\n",
    "BasicPairwiseEvaluator()\n",
    "AlpacaEvalPairwiseEvaluator()\n",
    "RewardbenchPairwiseEvaluator()\n",
    "ArenaHardPairwiseEvaluator()"
   ]
  },
  {
   "cell_type": "code",
   "execution_count": null,
   "metadata": {},
   "outputs": [],
   "source": []
  }
 ],
 "metadata": {
  "kernelspec": {
   "display_name": "Python 3 (ipykernel)",
   "language": "python",
   "name": "python3"
  },
  "language_info": {
   "codemirror_mode": {
    "name": "ipython",
    "version": 3
   },
   "file_extension": ".py",
   "mimetype": "text/x-python",
   "name": "python",
   "nbconvert_exporter": "python",
   "pygments_lexer": "ipython3",
   "version": "3.10.0"
  }
 },
 "nbformat": 4,
 "nbformat_minor": 4
}
