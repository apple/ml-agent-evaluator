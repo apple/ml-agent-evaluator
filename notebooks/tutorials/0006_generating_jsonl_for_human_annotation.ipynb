{
 "cells": [
  {
   "cell_type": "code",
   "execution_count": null,
   "metadata": {},
   "outputs": [],
   "source": [
    "# For licensing see accompanying LICENSE file.\n# Copyright (C) 2025 Apple Inc. All Rights Reserved."
   ]
  },
  {
   "cell_type": "markdown",
   "metadata": {},
   "source": [
    "# Generating JSONL file for human annotation\n",
    "\n",
    "Transfer from standard CSV file to JSONL file to work with the POEM platform."
   ]
  },
  {
   "cell_type": "code",
   "execution_count": 3,
   "metadata": {},
   "outputs": [],
   "source": [
    "import pandas as pd\n",
    "import json\n",
    "import pathlib\n",
    "\n",
    "DATA_PATH = pathlib.Path(\"../../data/external/truthful_qa/truthful_qa_5.csv\")\n",
    "SAVE_PATH = pathlib.Path(\"./tutorial_outputs/\")\n",
    "SAVE_PATH.mkdir(exist_ok=True)\n",
    "\n",
    "df = pd.read_csv(DATA_PATH)\n",
    "\n",
    "json_dicts = []\n",
    "\n",
    "# optional: to skip already annotated rows\n",
    "start_index = 0\n",
    "\n",
    "for i, row in df.iterrows():\n",
    "    if i < start_index:\n",
    "        continue\n",
    "    pref_text = row[row[\"preferred_text\"]]\n",
    "    nonpref_text_col = \"text_a\" if row[\"preferred_text\"] == \"text_b\" else \"text_b\"\n",
    "    nonpref_text = row[nonpref_text_col]\n",
    "\n",
    "    assert row[\"preferred_text\"] != nonpref_text_col, f\"{row['preferred_text']} == {nonpref_text_col}\"\n",
    "    assert nonpref_text != pref_text, f\"{nonpref_text} == {pref_text}\"\n",
    "\n",
    "\n",
    "    json_dicts.append(\n",
    "        {\n",
    "            \"prompt_id\": f\"ageval-test-20240813-{i:07}\",\n",
    "            \"messages\":[\n",
    "                {\n",
    "                    \"role\": \"user\",\n",
    "                    \"content\": row[\"prompt\"],\n",
    "                }\n",
    "            ],\n",
    "            \"enrichments\":\n",
    "            {\n",
    "                \"task_type\": \"Open Q&A\",\n",
    "                \"topic\": \"other_v1.1\",\n",
    "                \"task_type_prob\": 1,\n",
    "                \"topic_prob\": 1,\n",
    "                \"meta\":{\"longfact-preferred\": \"text_1\"},\n",
    "            },\n",
    "            \"responses\":\n",
    "            {\n",
    "                \"text_1\":\n",
    "                {\n",
    "                    \"response\": pref_text,\n",
    "                    \"metadata\": {},\n",
    "                },\n",
    "                \"text_2\":\n",
    "                {\n",
    "                    \"response\": nonpref_text,\n",
    "                    \"metadata\": {},\n",
    "                },\n",
    "            }\n",
    "            }\n",
    "\n",
    "    )\n",
    "\n",
    "with open(SAVE_PATH / \"test.jsonl\", \"w\") as f:\n",
    "    json.dump(json_dicts, f, indent=4)"
   ]
  },
  {
   "cell_type": "code",
   "execution_count": null,
   "metadata": {},
   "outputs": [],
   "source": []
  }
 ],
 "metadata": {
  "kernelspec": {
   "display_name": "Python 3 (ipykernel)",
   "language": "python",
   "name": "python3"
  },
  "language_info": {
   "codemirror_mode": {
    "name": "ipython",
    "version": 3
   },
   "file_extension": ".py",
   "mimetype": "text/x-python",
   "name": "python",
   "nbconvert_exporter": "python",
   "pygments_lexer": "ipython3",
   "version": "3.10.0"
  }
 },
 "nbformat": 4,
 "nbformat_minor": 4
}
