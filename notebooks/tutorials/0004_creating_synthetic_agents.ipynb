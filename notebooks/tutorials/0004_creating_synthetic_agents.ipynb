{
 "cells": [
  {
   "cell_type": "code",
   "execution_count": null,
   "metadata": {},
   "outputs": [],
   "source": [
    "# For licensing see accompanying LICENSE file.\n# Copyright (C) 2025 Apple Inc. All Rights Reserved."
   ]
  },
  {
   "cell_type": "markdown",
   "metadata": {},
   "source": [
    "# Creating \"synthetic\" or \"virtual\" agents\n",
    "\n",
    "When creating experiments there are typically two types of annotators: agents (our agent) and baselines (e.g. AlpacaEval 2.0 annotator). \n",
    "Often we want to test the agent with *multiple* underlying baseline annotators. However, there is a lot of duplicate code that is run if we\n",
    "run all of these agent and baseline results separately. The agent code stays the same, only annotations by the baseline change. \n",
    "\n",
    "Thus, instead of (expensively and slowly) re-running the agent code for each baseline, we can actually swap out the baseline inside \n",
    "the agent and re-use the results we got from running the agent once (or x number of seeds). We refer to this\n",
    "as a \"synthetic\" agent. It is \"synthetic\" in the sense that we didn't run this configuration seperately, but rather\n",
    "combine two existing results into a new one. Note that this is equivalent to actually having run the configuration.\n",
    "\n",
    "The results are only different when comparing between different agents and baselines, then differences between agents\n",
    "configurations are not due the inherent noise of the agent itself (as that code uses the same seeds) but rather just\n",
    "the baseline annotator used. This caveat is worth pointing out, but should affect the validity of our results."
   ]
  },
  {
   "cell_type": "code",
   "execution_count": 1,
   "metadata": {},
   "outputs": [],
   "source": [
    "import ageval.analysis.post_processing\n",
    "import ageval.analysis.data_loader\n",
    "\n",
    "\n",
    "# first we set some multirun paths (ADAPT THIS TO YOUR MULTIRUN PATHS)\n",
    "multirun_paths =[\n",
    "    \"../../../project-agent-evaluator-results/2024_08_19_presentation_v5/0410_gsm8k_baseline_alpacaeval\",\n",
    "    \"../../../project-agent-evaluator-results/2024_08_19_presentation_v5/0400_gsm8k_agent\",\n",
    "]\n",
    "multirun_path = \", \".join(multirun_paths)\n",
    "\n",
    "# we load the results using the data_loader module\n",
    "# (this module is built for loading experiment run data)\n",
    "annotation_dfs, metric_dfs, results_dict = (\n",
    "        ageval.analysis.data_loader.load_experiments_from_multirun(multirun_path)\n",
    "    )\n",
    "\n",
    "# name of the agent we want to base our synthetic agents on\n",
    "# Not sure what your agent is called? Check the print some of the metric_dfs above\n",
    "# to show the available agent names in your runs.\n",
    "AGENT_NAME = \"agent_gpt-4o-2024-05-13_math_checker_base-basic\"\n",
    "\n",
    "# save path to save the results to\n",
    "BASE_SAVE_DIR = \"../../../project-agent-evaluator-results/2024_08_19_presentation_v5/0950_gsm8k_agent_synth_tutorial\"\n",
    "\n",
    "# variable to save output paths in\n",
    "paths = []\n",
    "\n",
    "# iterate over annotation dfs \n",
    "# (one dict entry per dataset, with annotations of multiple annotator(s) (seeds))\n",
    "for data_path, df_an in annotation_dfs.items():\n",
    "    # get metric df for given dataset\n",
    "    df_met = metric_dfs[data_path]\n",
    "    short_data_path = data_path.split(\"/\")[-1].split(\".csv\")[0]\n",
    "\n",
    "    # create save path (so the synth agents are easy to find by dataset)\n",
    "    save_dir = f\"{BASE_SAVE_DIR}/{short_data_path}\"\n",
    "\n",
    "    # generate the actual synthetic agents, for every baseline \n",
    "    # inside the annotation df (df_an).\n",
    "    ageval.analysis.post_processing.generate_synth_agent_results(\n",
    "        agent_name=AGENT_NAME, \n",
    "        annotation_df=df_an,\n",
    "        metric_df=df_met, # used to get the unique model names\n",
    "        original_data_path=data_path,\n",
    "        save_dir=save_dir,\n",
    "    )\n",
    "    paths.append(save_dir)\n",
    "\n",
    "# and now you have synthetic agents in BASE_SAVE_DIR path.\n",
    "# To plot the results, use tutorial notebook 0003."
   ]
  },
  {
   "cell_type": "code",
   "execution_count": null,
   "metadata": {},
   "outputs": [],
   "source": []
  }
 ],
 "metadata": {
  "kernelspec": {
   "display_name": "Python 3 (ipykernel)",
   "language": "python",
   "name": "python3"
  },
  "language_info": {
   "codemirror_mode": {
    "name": "ipython",
    "version": 3
   },
   "file_extension": ".py",
   "mimetype": "text/x-python",
   "name": "python",
   "nbconvert_exporter": "python",
   "pygments_lexer": "ipython3",
   "version": "3.10.0"
  }
 },
 "nbformat": 4,
 "nbformat_minor": 4
}
