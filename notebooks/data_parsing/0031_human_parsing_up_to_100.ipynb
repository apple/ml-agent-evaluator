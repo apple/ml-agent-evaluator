{
 "cells": [
  {
   "cell_type": "code",
   "execution_count": 1,
   "metadata": {},
   "outputs": [],
   "source": [
    "# For licensing see accompanying LICENSE file.\n",
    "# Copyright (C) 2025 Apple Inc. All Rights Reserved.\n",
    "# get human annotation data as csv\n",
    "\n",
    "import pandas as pd\n",
    "\n",
    "df = pd.read_csv(\"../../data/human/arduin-long-form-factuality-20240806-2255_(uep-119589).csv\")"
   ]
  },
  {
   "cell_type": "code",
   "execution_count": 2,
   "metadata": {},
   "outputs": [],
   "source": [
    "# get original data that given to annotators\n",
    "# (this includes the ground-truth preference)\n",
    "\n",
    "import json\n",
    "\n",
    "with open(\"../../data/generated/longfact/individual_generations_v6_addmore/longfact-initial-test-20240805.jsonl\") as f:\n",
    "    data = json.load(f)\n",
    "    \n",
    "df_gt = pd.json_normalize(data) # this is a highly nested json, normalize it"
   ]
  },
  {
   "cell_type": "code",
   "execution_count": 3,
   "metadata": {},
   "outputs": [],
   "source": [
    "# merge both datasets on prompt id\n",
    "\n",
    "full_df = pd.merge(df, df_gt, left_on=\"Prompt Id\", right_on=\"prompt_id\")"
   ]
  },
  {
   "cell_type": "code",
   "execution_count": 4,
   "metadata": {},
   "outputs": [],
   "source": [
    "# get human preference from OPR rating\n",
    "\n",
    "def get_human_pref(row):\n",
    "    rating = row[\"Satisfaction OPR text_b,text_a\"]\n",
    "    if rating < 0:\n",
    "        return \"text_b\"\n",
    "    elif rating > 0:\n",
    "        return \"text_a\"\n",
    "    else:\n",
    "        return \"tie\"\n",
    "\n",
    "full_df[\"converted_ratings\"] = full_df.apply(get_human_pref, axis=1)\n",
    "\n",
    "# add columns with intuitive names\n",
    "full_df[[\"human_pref\", \"gt_pref\"]] = full_df[[\"converted_ratings\", \"enrichments.meta.longfact-preferred\"]]\n",
    "\n",
    "# add \n",
    "full_df[\"agreed\"] = full_df[\"human_pref\"] == full_df[\"gt_pref\"]"
   ]
  },
  {
   "cell_type": "code",
   "execution_count": 5,
   "metadata": {},
   "outputs": [
    {
     "data": {
      "text/plain": [
       "agreed\n",
       "True     23\n",
       "False    17\n",
       "Name: count, dtype: int64"
      ]
     },
     "execution_count": 5,
     "metadata": {},
     "output_type": "execute_result"
    }
   ],
   "source": [
    "# get value counts of agreement\n",
    "full_df.agreed.value_counts()"
   ]
  },
  {
   "cell_type": "code",
   "execution_count": 6,
   "metadata": {},
   "outputs": [
    {
     "data": {
      "text/plain": [
       "agreed\n",
       "True     23\n",
       "False     9\n",
       "Name: count, dtype: int64"
      ]
     },
     "execution_count": 6,
     "metadata": {},
     "output_type": "execute_result"
    }
   ],
   "source": [
    "# remove ties, and get value counts\n",
    "filtered_df = full_df.copy()\n",
    "filtered_df = filtered_df[filtered_df[\"human_pref\"] != \"tie\"]\n",
    "filtered_df.agreed.value_counts()"
   ]
  },
  {
   "cell_type": "markdown",
   "metadata": {},
   "source": [
    "---"
   ]
  },
  {
   "cell_type": "code",
   "execution_count": 7,
   "metadata": {},
   "outputs": [],
   "source": [
    "# Other set of annotations\n",
    "\n",
    "# get human annotation data as csv\n",
    "\n",
    "import pandas as pd\n",
    "\n",
    "df = pd.read_csv(\"../../data/human/arduin-long-form-factuality-20240813-20240814-1240_(uep-120627).csv\")"
   ]
  },
  {
   "cell_type": "code",
   "execution_count": 8,
   "metadata": {},
   "outputs": [],
   "source": [
    "import json\n",
    "\n",
    "with open(\"../../data/generated/longfact/individual_generations_v7_100_old/longfact-40to99-20240813.jsonl\") as f:\n",
    "    data = json.load(f)\n",
    "    \n",
    "df_gt = pd.json_normalize(data) # this is a highly nested json, normalize it"
   ]
  },
  {
   "cell_type": "code",
   "execution_count": 9,
   "metadata": {},
   "outputs": [],
   "source": [
    "# merge both datasets on prompt id\n",
    "full_df = pd.merge(df, df_gt, left_on=\"Prompt Id\", right_on=\"prompt_id\")\n",
    "# ensure df is actually in order\n",
    "full_df = full_df.sort_values(by=[\"prompt_id\"]).reset_index()\n",
    "\n",
    "# fix known data issue\n",
    "START_IDX = 70-40\n",
    "END_IDX = 75-40\n",
    "# IMPORTANT: look indices are inclusive! (not excluding end index itself)\n",
    "full_df.loc[START_IDX:END_IDX-1, \"enrichments.meta.longfact-preferred\"] = \"text_2\"\n",
    "\n",
    "# get human preference from OPR rating\n",
    "\n",
    "def get_human_pref(row):\n",
    "    rating = row[\"Satisfaction OPR text_2,text_1\"]\n",
    "    if rating < 0:\n",
    "        return \"text_2\"\n",
    "    elif rating > 0:\n",
    "        return \"text_1\"\n",
    "    else:\n",
    "        return \"tie\"\n",
    "\n",
    "full_df[\"converted_ratings\"] = full_df.apply(get_human_pref, axis=1)\n",
    "\n",
    "# add columns with intuitive names\n",
    "full_df[[\"human_pref\", \"gt_pref\"]] = full_df[[\"converted_ratings\", \"enrichments.meta.longfact-preferred\"]]\n",
    "\n",
    "# add \n",
    "full_df[\"agreed\"] = full_df[\"human_pref\"] == full_df[\"gt_pref\"]"
   ]
  },
  {
   "cell_type": "code",
   "execution_count": 10,
   "metadata": {},
   "outputs": [
    {
     "name": "stdout",
     "output_type": "stream",
     "text": [
      "---\n",
      "id longfact-pairwise-20240813-0000068\n",
      "PREF: text_1\n",
      "PREF: text_1\n",
      "HUMAN PREF: text_1\n",
      "agreed True\n",
      "text_1 Kevin Mitnick is a renowned cybersecurity analyst and former hacker, often referred to as one of the most famous computer criminals in history. Born on August 6, 1963, in Van Nuys, California, he gained notoriety in the 1980s and 1990s for his high-profile hacks, including breaching the networks of major corporations like Nokia, IBM, and Motorola. In 1995, he was arrested by the FBI after a well-publicized pursuit, which included a 74-day stint as a fugitive, and he was subsequently sentenced to five years in prison. After his release in 2000, Mitnick transitioned to a career in cybersecurity, becoming a consultant and author, and he published books such as \"The Art of Deception\" and \"The Art of Intrusion.\" Today, he is the Chief Hacking Officer at KnowBe4, a security awareness training company, where he shares his expertise to help organizations improve their cybersecurity defenses.\n",
      "text_2 Kevin Mitnick is a renowned cybersecurity analyst and former hacker, often referred to as one of the most famous computer criminals in history. Born on August 6, 1963, in Los Angeles, California, he gained notoriety in the 1980s and 1990s for his high-profile hacks, including breaching the networks of major corporations like Nokia, IBM, and Motorola. In 1995, he was arrested by the FBI after a lengthy pursuit, which included a dramatic chase involving the FBI and the U.S. Secret Service, and he ultimately served six years in prison. After his release in 2000, Mitnick transitioned to a career in cybersecurity consulting and became a public speaker, authoring books such as \"The Art of Deception\" and \"The Art of Hacking.\" Today, he is the Chief Hacking Officer at Mitnick Security Consulting, LLC, where he advises organizations on security practices and vulnerabilities.\n",
      "---\n",
      "id longfact-pairwise-20240813-0000069\n",
      "PREF: text_1\n",
      "PREF: text_1\n",
      "HUMAN PREF: text_1\n",
      "agreed True\n",
      "text_1 The Dolmen of Menga is a megalithic burial site located near the town of Antequera in the province of Málaga, Spain, dating back to the Neolithic period, around 3,500 BCE. It is one of the largest dolmens in Europe, consisting of a large chamber formed by massive stone slabs, with a capstone weighing approximately 180 tons. The site is part of the Antequera Dolmens Site, which was designated a UNESCO World Heritage Site in 2016, recognizing its significance in prehistoric architecture and culture. Archaeological studies have revealed that the dolmen was used for collective burials, and it is aligned with the nearby Peña de los Enamorados mountain, suggesting a connection to astronomical events. The Dolmen of Menga is often associated with the ancient culture of the Iberians and has been a subject of study by various archaeologists, including the notable Spanish archaeologist Manuel de Góngora in the early 20th century.\n",
      "text_2 The Dolmen of Menga is a megalithic burial site located near the town of Antequera in the province of Málaga, Spain, dating back to the Neolithic period, around 3,500 BCE. This impressive structure consists of a large chamber formed by massive stone slabs, with the largest capstone weighing approximately 280 tons, making it one of the largest dolmens in Europe. The site is part of the Antequera Dolmens Site, which was designated a UNESCO World Heritage Site in 2016, recognizing its significance in prehistoric architecture and burial practices. Archaeological studies suggest that the dolmen was used for communal burials, and it is aligned with the nearby Peña de los Enamorrados mountain, indicating a possible astronomical or ritual significance. The Dolmen of Menga is often associated with the ancient culture of the Iberians and is a key example of the megalithic traditions that spread across Europe during prehistoric times.\n",
      "---\n",
      "id longfact-pairwise-20240813-0000070\n",
      "PREF: text_2\n",
      "PREF: text_2\n",
      "HUMAN PREF: tie\n",
      "agreed False\n",
      "text_1 The Asch Conformity Experiments, conducted by psychologist Solomon Asch in the early 1950s, aimed to investigate the extent to which social pressure from a majority group could influence an individual’s judgment. In a series of experiments held at Swarthmore College in 1951, participants were asked to match the length of a line to four comparison lines, with confederates (actors) intentionally giving incorrect answers. Asch found that about 75% of participants conformed to the group's incorrect consensus at least three times, demonstrating the powerful impact of group pressure on individual decision-making. For instance, in one of the trials, even when the minority of confederates unanimously chose the wrong line, the real participant often felt compelled to conform despite knowing the correct answer. This experiment highlighted the conflict between personal belief and group influence, illustrating how social dynamics can lead individuals to compromise their own perceptions.\n",
      "text_2 The Asch Conformity Experiments, conducted by psychologist Solomon Asch in the early 1950s, aimed to investigate the extent to which social pressure from a majority group could influence an individual’s judgment. In a series of experiments held at Swarthmore College in 1951, participants were asked to match the length of a line to three comparison lines, with confederates (actors) deliberately giving incorrect answers. Asch found that about 75% of participants conformed to the group's incorrect consensus at least once, despite the clear evidence of their own perceptions. The experiments highlighted the power of group pressure, demonstrating that individuals often prioritize group harmony over their own accurate judgments. This phenomenon was particularly evident when participants were placed in groups of 7 to 9, where the unanimous incorrect responses from confederates led to significant conformity among the naive participants.\n",
      "---\n",
      "id longfact-pairwise-20240813-0000071\n",
      "PREF: text_2\n",
      "PREF: text_2\n",
      "HUMAN PREF: text_1\n",
      "agreed False\n",
      "text_1 Rudolf Virchow (1821-1902) was a prominent German physician, pathologist, and anthropologist, often referred to as the \"father of modern pathology.\" He is best known for his assertion that \"omnis cellula e cellula,\" meaning that all cells arise from pre-existing cells, which laid the groundwork for cell theory. Virchow was also a key figure in public health reform, notably during the influenza outbreak in Berlin in 1848, where he advocated for better sanitation and living conditions. He founded the journal \"Archiv für pathologische Anatomie, Körper und Physiologie und für klinische Medizin\" in 1846, which became a leading publication in pathology. Additionally, Virchow was involved in social medicine and political activism, opposing the Prussian government and advocating for social reforms, including the establishment of a public health system.\n",
      "text_2 Rudolf Virchow (1821-1902) was a prominent German physician, pathologist, and anthropologist, often referred to as the \"father of modern pathology.\" He is best known for his assertion that \"omnis cellula e cellula,\" meaning that all cells arise from pre-existing cells, which laid the groundwork for cellular pathology. Virchow was also a significant figure in public health reform, notably during the cholera outbreak in Berlin in 1848, where he advocated for improved sanitation and social conditions to combat disease. He founded the journal \"Archiv für pathologische Anatomie und Physiologie\" in 1846, which became a leading publication in pathology. Additionally, Virchow was involved in politics, serving as a member of the German Reichstag from 1880 to 1884, where he championed social medicine and health reforms.\n",
      "---\n",
      "id longfact-pairwise-20240813-0000072\n",
      "PREF: text_2\n",
      "PREF: text_2\n",
      "HUMAN PREF: text_2\n",
      "agreed True\n",
      "text_1 Reed Hastings is an American entrepreneur and co-founder of Netflix, which he established in 1997 alongside Marc Randolph. Initially, Netflix operated as a VHS rental service, but under Hastings' leadership, it transitioned to a DVD rental service in 2000 and later to a streaming platform in 2007, revolutionizing how audiences consume media. Hastings served as CEO until July 2022, during which time he oversaw significant growth, with Netflix amassing over 220 million subscribers globally by 2021. He was instrumental in the company's foray into original content, launching hits like \"House of Cards\" in 2013 and \"Stranger Things\" in 2016, which helped solidify Netflix's position in the entertainment industry. Hastings is also known for his emphasis on corporate culture and innovation, famously promoting a \"freedom and responsibility\" ethos within the company.\n",
      "text_2 Reed Hastings is an American entrepreneur and co-founder of Netflix, which he established in 1997 alongside Marc Randolph. Initially, Netflix operated as a DVD rental service, but under Hastings' leadership, it transitioned to a streaming platform in 2007, revolutionizing how audiences consume media. Hastings served as the CEO of Netflix until July 2020, when he transitioned to the role of Executive Chairman, allowing Ted Sarandos to become co-CEO alongside him. Under Hastings' guidance, Netflix grew from a small startup to a global powerhouse, boasting over 230 million subscribers by 2023 and producing critically acclaimed original content like \"Stranger Things\" and \"The Crown.\" His vision and strategic decisions, including significant investments in original programming and international expansion, have made Netflix a dominant player in the entertainment industry.\n",
      "---\n",
      "id longfact-pairwise-20240813-0000073\n",
      "PREF: text_2\n",
      "PREF: text_2\n",
      "HUMAN PREF: text_2\n",
      "agreed True\n",
      "text_1 Mount Kilimanjaro, located in Tanzania, is the highest peak in Africa, standing at 5,895 meters (19,341 feet) above sea level. It is a dormant stratovolcano composed of three volcanic cones: Kibo, Mallenzi, and Shira, with Kibo being the highest. The mountain attracts thousands of climbers each year, with the most popular routes being the Marangu, Machame, and Lemosho routes, which vary in difficulty and scenery. Notably, in 1989, a team of climbers led by the renowned mountaineer, David Templeman-Adams, made headlines when they successfully reached the summit. Kilimanjaro is also a UNESCO World Heritage Site, recognized for its unique ecosystems and biodiversity, including the endangered Kilimanjaro tree hyrax and various species of flora.\n",
      "text_2 Mount Kilimanjaro, located in Tanzania, is the highest peak in Africa, standing at 5,895 meters (19,341 feet) above sea level. It is a dormant stratovolcano composed of three volcanic cones: Kibo, Mawenzi, and Shira, with Kibo being the highest point. The mountain was first successfully summited by Hans Meyer and Ludwig Purtscheller on October 6, 1889. Kilimanjaro is a popular trekking destination, with routes such as the Marangu, Machame, and Lemosho, attracting thousands of climbers each year; in 2019, approximately 35,000 trekkers attempted to reach the summit. The surrounding Kilimanjaro National Park, established in 1973, is a UNESCO World Heritage Site and is home to diverse ecosystems, including rainforests, alpine deserts, and glaciers.\n",
      "---\n",
      "id longfact-pairwise-20240813-0000074\n",
      "PREF: text_2\n",
      "PREF: text_2\n",
      "HUMAN PREF: tie\n",
      "agreed False\n",
      "text_1 Elon Musk co-founded Tesla, Inc. in 2003 and has served as its CEO and product architect since 2008, playing a pivotal role in the company's vision to accelerate the world's transition to sustainable energy. Under his leadership, Tesla launched several groundbreaking electric vehicles, including the Model S in 2012, the Model 3 in 2017, and the Model Y in 2020, with the Model 3 becoming the best-selling electric car globally in 2021. Musk has been instrumental in expanding Tesla's production capabilities, notably with the Gigafactory in Nevada, which began operations in 2016 and aimed to produce enough batteries to power 700,000 vehicles annually. He has also overseen significant financial growth, with Tesla's market capitalization surpassing $1 trillion in 2021, making it one of the most valuable automakers in the world. Additionally, Musk's ambitious goals include the development of the Cybertruck, unveiled in November 2019, and the ongoing expansion of Tesla's global footprint, including factories in Berlin, Paris and Texas, which are set to enhance production capacity significantly.\n",
      "text_2 Elon Musk co-founded Tesla, Inc. in 2003 and has served as its CEO and product architect since 2008, playing a pivotal role in the company's vision to accelerate the world's transition to sustainable energy. Under his leadership, Tesla launched several groundbreaking electric vehicles, including the Model S in 2012, the Model 3 in 2017, and the Model Y in 2020, with the Model 3 becoming the best-selling electric car globally. Musk has also overseen the expansion of Tesla's Gigafactories, including Gigafactory 1 in Nevada, which began production in 2016, and Gigafactory Berlin, which opened in March 2022. His ambitious goals include producing 20 million vehicles annually by 2030, a target he announced during Tesla's 2021 Investor Day. Musk's influence extends beyond product development; he has been known for his direct engagement with customers and investors through social media, particularly Twitter, where he often shares updates and insights about Tesla's progress and future plans.\n",
      "---\n",
      "id longfact-pairwise-20240813-0000075\n",
      "PREF: text_1\n",
      "PREF: text_1\n",
      "HUMAN PREF: text_1\n",
      "agreed True\n",
      "text_1 Jamie Dimon has served as the CEO of JPMorgan Chase since December 2005, leading the bank through significant challenges, including the 2008 financial crisis, where it emerged as a stronger institution. Under his leadership, JPMorgan Chase has consistently reported strong financial performance, with the bank's net income reaching approximately $48.3 billion in 2021. Dimon has emphasized technology and innovation, investing over $12 billion annually in technology to enhance digital banking services, which has helped the bank attract millions of new customers. He has also been vocal about social issues, launching initiatives like the $30 billion commitment in 2020 to advance racial equity and economic inclusion. Dimon's leadership style is characterized by a focus on risk management and a commitment to maintaining a strong capital position, which has positioned JPMorgan Chase as one of the most resilient banks globally.\n",
      "text_2 Jamie Dimon has served as the CEO of JPMorgan Chase since December 2005, leading the bank through significant challenges, including the 2008 financial crisis, where it emerged as one of the strongest institutions in the industry. Under his leadership, JPMorgan Chase's assets grew from approximately $1.5 trillion in 2005 to over $4.2 trillion by 2023, making it the second-largest bank in the United States. Dimon has been a vocal advocate for regulatory reform, often testifying before Congress, and in 2017, he famously warned about the potential risks of rising populism and protectionism during a conference in New York. He also spearheaded the bank's investment in technology, committing $11.5 billion in 2021 to enhance digital banking services, which has attracted millions of new customers. Additionally, Dimon has emphasized diversity and inclusion, launching initiatives like the Advancing Black Pathways program in 2020 to support economic mobility for Black Americans.\n",
      "---\n",
      "id longfact-pairwise-20240813-0000076\n",
      "PREF: text_1\n",
      "PREF: text_1\n",
      "HUMAN PREF: text_1\n",
      "agreed True\n",
      "text_1 The Apollo 11 mission, launched on July 16, 1969, was the first manned mission to land on the Moon, with astronauts Neil Armstrong, Buzz Aldrin, and Michael Collins aboard. The Lunar Module, named \"Eagle,\" separated from the Command Module \"Columbia\" on July 20, 1969, and Armstrong and Aldrin landed in the Sea of Tranquility at 2:56 UTC, with Armstrong famously declaring, \"That's one small step for [a] man, one giant leap for mankind,\" as he stepped onto the lunar surface. The mission lasted a total of 8 days, 3 hours, 18 minutes, and 35 seconds, with the astronauts spending about 21 hours on the Moon, including 2 hours and 15 minutes outside the Lunar Module. They collected 47.5 pounds (21.5 kg) of lunar samples and conducted experiments before rejoining Collins in the Command Module on July 21. Apollo 11 safely returned to Earth, splashing down in the Pacific Ocean on July 24, 1969, and the crew was subsequently quarantined for 21 days to prevent potential contamination from lunar pathogens.\n",
      "text_2 The Apollo 11 mission, launched on July 16, 1969, was the first manned mission to land on the Moon, with astronauts Neil Armstrong, Buzz Aldrin, and Michael Collins aboard. The Lunar Module, named \"Eagle,\" successfully touched down on the Moon's surface on July 20, 1969, at 2:56 UTC in the Sea of Tranquility. Neil Armstrong became the first human to set foot on the lunar surface, famously declaring, \"That's one small step for [a] man, one giant leap for mankind,\" at 3:16 UTC. Buzz Aldrin joined him shortly after, and together they spent about 2.5 hours outside the module, conducting experiments and collecting lunar samples. The mission concluded with a safe splashdown in the Atlantic Ocean on July 24, 1969, at 16:50 UTC, marking a significant achievement in space exploration and the Space Race.\n"
     ]
    }
   ],
   "source": [
    "\n",
    "for idx in range(START_IDX-2, END_IDX + 2):\n",
    "    print(\"---\")\n",
    "    print(\"id\", full_df[\"prompt_id\"].loc[idx])\n",
    "    print(\"PREF:\", full_df[\"enrichments.meta.longfact-preferred\"].loc[idx])\n",
    "    print(\"PREF:\", full_df[\"gt_pref\"].loc[idx])\n",
    "    print(\"HUMAN PREF:\", full_df[\"human_pref\"].loc[idx])\n",
    "    print(\"agreed\", full_df[\"agreed\"].loc[idx])\n",
    "    print(\"text_1\", full_df[\"responses.text_1.response\"].loc[idx])\n",
    "    print(\"text_2\", full_df[\"responses.text_2.response\"].loc[idx])\n"
   ]
  },
  {
   "cell_type": "code",
   "execution_count": 11,
   "metadata": {},
   "outputs": [
    {
     "data": {
      "text/plain": [
       "agreed\n",
       "True     40\n",
       "False    20\n",
       "Name: count, dtype: int64"
      ]
     },
     "execution_count": 11,
     "metadata": {},
     "output_type": "execute_result"
    }
   ],
   "source": [
    "full_df.agreed.value_counts()"
   ]
  },
  {
   "cell_type": "code",
   "execution_count": 12,
   "metadata": {},
   "outputs": [
    {
     "data": {
      "text/plain": [
       "agreed\n",
       "True     40\n",
       "False    10\n",
       "Name: count, dtype: int64"
      ]
     },
     "execution_count": 12,
     "metadata": {},
     "output_type": "execute_result"
    }
   ],
   "source": [
    "# remove ties, and get value counts\n",
    "filtered_df = full_df.copy()\n",
    "filtered_df = filtered_df[filtered_df[\"human_pref\"] != \"tie\"]\n",
    "filtered_df.agreed.value_counts()"
   ]
  },
  {
   "cell_type": "code",
   "execution_count": 14,
   "metadata": {},
   "outputs": [
    {
     "data": {
      "text/plain": [
       "0.7682926829268293"
      ]
     },
     "execution_count": 14,
     "metadata": {},
     "output_type": "execute_result"
    }
   ],
   "source": [
    "# human agreement (on non-ties)\n",
    "(23 + 40) / (10 + 9 + 23 + 40)"
   ]
  },
  {
   "cell_type": "code",
   "execution_count": null,
   "metadata": {},
   "outputs": [],
   "source": []
  }
 ],
 "metadata": {
  "kernelspec": {
   "display_name": "Python 3 (ipykernel)",
   "language": "python",
   "name": "python3"
  },
  "language_info": {
   "codemirror_mode": {
    "name": "ipython",
    "version": 3
   },
   "file_extension": ".py",
   "mimetype": "text/x-python",
   "name": "python",
   "nbconvert_exporter": "python",
   "pygments_lexer": "ipython3",
   "version": "3.10.18"
  }
 },
 "nbformat": 4,
 "nbformat_minor": 4
}
