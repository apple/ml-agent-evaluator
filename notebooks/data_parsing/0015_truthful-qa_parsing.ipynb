{
 "cells": [
  {
   "cell_type": "code",
   "execution_count": null,
   "metadata": {},
   "outputs": [],
   "source": [
    "# For licensing see accompanying LICENSE file.\n# Copyright (C) 2025 Apple Inc. All Rights Reserved.\n",
    "import pandas as pd\n",
    "import pathlib\n",
    "\n",
    "df = pd.read_csv(\"../data/external/truthful_qa/TruthfulQA_v1.csv\")\n",
    "df_out = pd.DataFrame()\n",
    "df.head(2)"
   ]
  },
  {
   "cell_type": "code",
   "execution_count": null,
   "metadata": {},
   "outputs": [],
   "source": [
    "import random\n",
    "\n",
    "def generate_preferences(row):\n",
    "    print(row)\n",
    "    good_response = row[\"Best Answer\"]\n",
    "    incorrect_answers = [answer.strip() for answer in row[\"Incorrect Answers\"].split(\";\")]\n",
    "    bad_response = random.choice(incorrect_answers)\n",
    "\n",
    "    preferred_text = random.choice([\"text_a\", \"text_b\"])\n",
    "    if preferred_text == \"text_a\":\n",
    "        text_a = good_response\n",
    "        text_b = bad_response\n",
    "    elif preferred_text == \"text_b\":\n",
    "        text_b = good_response\n",
    "        text_a = bad_response\n",
    "\n",
    "    return text_a, text_b, preferred_text"
   ]
  },
  {
   "cell_type": "code",
   "execution_count": null,
   "metadata": {},
   "outputs": [],
   "source": [
    "POSTAMBLE = \" Please answer based on how things are (or were) in the real world.\"\n",
    "df_out[\"prompt\"] = df[\"Question\"] #+ POSTAMBLE\n",
    "\n",
    "random.seed(0)\n",
    "df_out[[\"text_a\",\"text_b\",\"preferred_text\"]] = df.apply(generate_preferences, axis=1, result_type='expand')"
   ]
  },
  {
   "cell_type": "code",
   "execution_count": null,
   "metadata": {},
   "outputs": [],
   "source": [
    "df_out"
   ]
  },
  {
   "cell_type": "code",
   "execution_count": null,
   "metadata": {},
   "outputs": [],
   "source": [
    "save_path = pathlib.Path(\"../data/external/truthful_qa/truthful_qa_400_v2.csv\")\n",
    "df_out.sample(frac=1, random_state=0)\n",
    "df_out[:400].to_csv(save_path, index_label=\"index\")"
   ]
  },
  {
   "cell_type": "code",
   "execution_count": null,
   "metadata": {},
   "outputs": [],
   "source": []
  }
 ],
 "metadata": {
  "kernelspec": {
   "display_name": "Python 3 (ipykernel)",
   "language": "python",
   "name": "python3"
  },
  "language_info": {
   "codemirror_mode": {
    "name": "ipython",
    "version": 3
   },
   "file_extension": ".py",
   "mimetype": "text/x-python",
   "name": "python",
   "nbconvert_exporter": "python",
   "pygments_lexer": "ipython3",
   "version": "3.10.0"
  }
 },
 "nbformat": 4,
 "nbformat_minor": 4
}
