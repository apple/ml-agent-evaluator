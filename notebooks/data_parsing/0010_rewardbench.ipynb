{
 "cells": [
  {
   "cell_type": "code",
   "execution_count": 1,
   "metadata": {},
   "outputs": [],
   "source": [
    "# For licensing see accompanying LICENSE file.\n",
    "# Copyright (C) 2025 Apple Inc. All Rights Reserved.\n",
    "import ageval.datasets.rewardbench\n",
    "\n",
    "SUBSETS = [\"hep-python\", \"llmbar-natural\", \"llmbar-adver-manual\", \"alpacaeval-hard\", \"math-prm\"]\n",
    "SUBSETS =['math-prm',  'xstest-should-respond',\n",
    "            'hep-python',  'hep-java',  'hep-js',  'hep-cpp',  'hep-go',\n",
    "            'hep-rust',  'xstest-should-refuse',  'donotanswer',\n",
    "            'llmbar-adver-neighbor',  'refusals-dangerous',\n",
    "            'llmbar-natural',  'alpacaeval-easy',  'refusals-offensive',\n",
    "            'alpacaeval-hard',  'alpacaeval-length',  'llmbar-adver-GPTInst',\n",
    "            'llmbar-adver-GPTOut',  'llmbar-adver-manual',  'mt-bench-med',\n",
    "            'mt-bench-hard',  'mt-bench-easy']\n",
    "for subset in SUBSETS:\n",
    "    df = ageval.datasets.rewardbench.load(subset=subset)\n",
    "    path = f\"../../data/external/rewardbench/{subset}.csv\"\n",
    "    df.to_csv(path, index=True, index_label=\"index\")"
   ]
  },
  {
   "cell_type": "code",
   "execution_count": null,
   "metadata": {},
   "outputs": [],
   "source": []
  }
 ],
 "metadata": {
  "kernelspec": {
   "display_name": "Python 3 (ipykernel)",
   "language": "python",
   "name": "python3"
  },
  "language_info": {
   "codemirror_mode": {
    "name": "ipython",
    "version": 3
   },
   "file_extension": ".py",
   "mimetype": "text/x-python",
   "name": "python",
   "nbconvert_exporter": "python",
   "pygments_lexer": "ipython3",
   "version": "3.10.9"
  }
 },
 "nbformat": 4,
 "nbformat_minor": 4
}
