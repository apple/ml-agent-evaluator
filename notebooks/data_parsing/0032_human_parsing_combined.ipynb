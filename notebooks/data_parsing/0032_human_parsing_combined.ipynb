{
 "cells": [
  {
   "cell_type": "code",
   "execution_count": null,
   "metadata": {},
   "outputs": [],
   "source": [
    "# For licensing see accompanying LICENSE file.\n# Copyright (C) 2025 Apple Inc. All Rights Reserved.\n",
    "# Notebook to get human annotation data for longfact pairwise as csv\n",
    "\n",
    "import pandas as pd\n",
    "\n",
    "df_1 = pd.read_csv(\"../../data/human/arduin-long-form-factuality-20240806-2255_(uep-119589).csv\")\n",
    "df_2 = pd.read_csv(\"../../data/human/arduin-long-form-factuality-20240813-20240814-1240_(uep-120627).csv\")"
   ]
  },
  {
   "cell_type": "code",
   "execution_count": null,
   "metadata": {},
   "outputs": [],
   "source": [
    "df_1.columns = [column.replace(\"text_a\", \"text_1\").replace(\"text_b\", \"text_2\") for column in df_1.columns]"
   ]
  },
  {
   "cell_type": "code",
   "execution_count": null,
   "metadata": {},
   "outputs": [],
   "source": [
    "df = pd.concat([df_1,df_2])"
   ]
  },
  {
   "cell_type": "code",
   "execution_count": null,
   "metadata": {},
   "outputs": [],
   "source": [
    "def get_human_pref(row):\n",
    "    rating = row[\"Satisfaction OPR text_2,text_1\"]\n",
    "    if rating < 0:\n",
    "        return \"text_2\"\n",
    "    elif rating > 0:\n",
    "        return \"text_1\"\n",
    "    else:\n",
    "        return \"tie\"\n",
    "    \n",
    "def get_original_index(row):\n",
    "    return int(row[\"Prompt Id\"].split(\"-\")[-1])\n",
    "\n",
    "df[\"converted_ratings\"] = df.apply(get_human_pref, axis=1)\n",
    "df[\"original_index\"] = df.apply(get_original_index, axis=1)"
   ]
  },
  {
   "cell_type": "code",
   "execution_count": null,
   "metadata": {},
   "outputs": [],
   "source": [
    "df_orig = pd.read_csv(\"../../data/generated/longfact/individual_generations_v8_fixflips/longfact_v9.csv\")\n",
    "df_orig.head(2)"
   ]
  },
  {
   "cell_type": "code",
   "execution_count": null,
   "metadata": {},
   "outputs": [],
   "source": [
    "full_df = df_orig.merge(df, left_on=\"index\", right_on=\"original_index\")"
   ]
  },
  {
   "cell_type": "code",
   "execution_count": null,
   "metadata": {},
   "outputs": [],
   "source": [
    "full_df.columns"
   ]
  },
  {
   "cell_type": "code",
   "execution_count": null,
   "metadata": {},
   "outputs": [],
   "source": [
    "def convert_human_pref(row):\n",
    "    human_pref = row['converted_ratings']\n",
    "\n",
    "    text_1 = row['Response - text_1']\n",
    "    text_2 = row['Response - text_2']\n",
    "\n",
    "    text_a = row['text_a']\n",
    "    text_b = row['text_b']\n",
    "\n",
    "    assert text_1 in [text_a,text_b]\n",
    "    assert text_2 in [text_a,text_b]\n",
    "\n",
    "    if text_a == text_1:\n",
    "        # text_a corresponds to text_1, text_b to text_2\n",
    "        return human_pref.replace(\"1\",\"a\").replace(\"2\",\"b\")\n",
    "    elif text_a == text_2:\n",
    "        # flipped correspondance\n",
    "        return human_pref.replace(\"1\",\"b\").replace(\"2\",\"a\")\n",
    "    else:\n",
    "        raise ValueError()\n",
    "    \n",
    "\n",
    "full_df[\"human_pref\"] = full_df.apply(convert_human_pref, axis=1)\n"
   ]
  },
  {
   "cell_type": "code",
   "execution_count": null,
   "metadata": {},
   "outputs": [],
   "source": [
    "filt_df = full_df[full_df[\"human_pref\"] != \"tie\"]\n",
    "(filt_df[\"human_pref\"] == filt_df[\"preferred_text\"]).value_counts()"
   ]
  },
  {
   "cell_type": "code",
   "execution_count": null,
   "metadata": {},
   "outputs": [],
   "source": [
    "full_df[\"human_annotation_strength\"] = full_df[\"Satisfaction OPR text_2,text_1\"]"
   ]
  },
  {
   "cell_type": "code",
   "execution_count": null,
   "metadata": {},
   "outputs": [],
   "source": [
    "save_df = full_df[['index', 'prompt', 'text_a', 'text_b', 'original_text',\n",
    "       'alt_text_original', 'preferred_text','human_pref', \"human_annotation_strength\"]]"
   ]
  },
  {
   "cell_type": "code",
   "execution_count": null,
   "metadata": {},
   "outputs": [],
   "source": [
    "import pathlib\n",
    "\n",
    "save_path = pathlib.Path(\"../../data/generated/longfact/individual_generations_v8_fixflips\")\n",
    "save_df.to_csv(save_path / \"longfact_v9_incl_human.csv\")\n",
    "full_df.to_csv(save_path / \"longfact_v9_incl_human_complete.csv\")"
   ]
  },
  {
   "cell_type": "code",
   "execution_count": null,
   "metadata": {},
   "outputs": [],
   "source": []
  }
 ],
 "metadata": {
  "kernelspec": {
   "display_name": "Python 3 (ipykernel)",
   "language": "python",
   "name": "python3"
  },
  "language_info": {
   "codemirror_mode": {
    "name": "ipython",
    "version": 3
   },
   "file_extension": ".py",
   "mimetype": "text/x-python",
   "name": "python",
   "nbconvert_exporter": "python",
   "pygments_lexer": "ipython3",
   "version": "3.10.0"
  }
 },
 "nbformat": 4,
 "nbformat_minor": 4
}
