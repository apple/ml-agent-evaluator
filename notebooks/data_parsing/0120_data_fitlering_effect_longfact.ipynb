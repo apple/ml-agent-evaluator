{
 "cells": [
  {
   "cell_type": "code",
   "execution_count": 1,
   "metadata": {},
   "outputs": [
    {
     "name": "stdout",
     "output_type": "stream",
     "text": [
      "min removal len: 10\n",
      "large removal len: 22\n",
      "max removal len: 30\n"
     ]
    }
   ],
   "source": [
    "# For licensing see accompanying LICENSE file.\n# Copyright (C) 2025 Apple Inc. All Rights Reserved.\n",
    "# Notebook to check the effect of removing parts of the dataset for publication\n",
    "\n",
    "MINIMAL_REMOVAL = [1,2,4,10,13,14,43,86,95,84] # excluding more controversial topics\n",
    "LARGE_REMOVAL = MINIMAL_REMOVAL + [15,25,45,51,55,59,68,85,88,93,97,99] # excluding general scandal + many people topics\n",
    "MAXIMAL_REMOVAL = LARGE_REMOVAL + [3,41,47,62,72,74,75,78] # excluding all people topics\n",
    "\n",
    "print(\"min removal len:\", len(MINIMAL_REMOVAL))\n",
    "print(\"large removal len:\", len(LARGE_REMOVAL))\n",
    "print(\"max removal len:\", len(MAXIMAL_REMOVAL))"
   ]
  },
  {
   "cell_type": "code",
   "execution_count": 2,
   "metadata": {},
   "outputs": [],
   "source": [
    "import pathlib\n",
    "import pandas as pd\n",
    "\n",
    "ANNOTATION_PATH = pathlib.Path(\"../../../project-agent-evaluator-results/2024_08_22_paper_v1/paper_replotting/overall_results/longfact_v8-combined_annotations.csv\")\n",
    "\n",
    "main_df = pd.read_csv(ANNOTATION_PATH)"
   ]
  },
  {
   "cell_type": "code",
   "execution_count": 3,
   "metadata": {},
   "outputs": [],
   "source": [
    "def generate_accuracy_for_different_removal(\n",
    "      agent_col = f\"agent_gpt-4o-2024-05-13_synthetic_base-basic_gpt-4o-2024-05-13_n0\",\n",
    "      baseline_col = f\"basic_gpt-4o-2024-05-13_n0\",\n",
    "):\n",
    "\n",
    "    def get_acc(value_counts):\n",
    "        return value_counts[True]/(value_counts[False] + value_counts[True])\n",
    "\n",
    "    for removal_list in [[], MINIMAL_REMOVAL, LARGE_REMOVAL, MAXIMAL_REMOVAL]:\n",
    "\n",
    "        df = main_df.drop(removal_list)\n",
    "\n",
    "        print(\"---\")\n",
    "        print(f\"Removal list len: {len(removal_list)} (datalen: {len(df)})\")\n",
    "        agent_vals = (df[agent_col] == df[\"preferred_text\"]).value_counts()\n",
    "        print(\"AGENT\", get_acc(agent_vals))\n",
    "        baseline_vals = (df[baseline_col] == df[\"preferred_text\"]).value_counts()\n",
    "        print(\"BASELINE\", get_acc(baseline_vals))"
   ]
  },
  {
   "cell_type": "code",
   "execution_count": 4,
   "metadata": {},
   "outputs": [
    {
     "name": "stdout",
     "output_type": "stream",
     "text": [
      "---\n",
      "Removal list len: 0 (datalen: 100)\n",
      "AGENT 0.81\n",
      "BASELINE 0.66\n",
      "---\n",
      "Removal list len: 10 (datalen: 90)\n",
      "AGENT 0.8111111111111111\n",
      "BASELINE 0.6444444444444445\n",
      "---\n",
      "Removal list len: 22 (datalen: 78)\n",
      "AGENT 0.8076923076923077\n",
      "BASELINE 0.6410256410256411\n",
      "---\n",
      "Removal list len: 30 (datalen: 70)\n",
      "AGENT 0.8\n",
      "BASELINE 0.6285714285714286\n"
     ]
    }
   ],
   "source": [
    "i = 0\n",
    "AGENT_COL = f\"agent_gpt-4o-2024-05-13_synthetic_base-basic_gpt-4o-2024-05-13_n{i}\"\n",
    "BASELINE_COL = f\"basic_gpt-4o-2024-05-13_n{i}\"\n",
    "\n",
    "generate_accuracy_for_different_removal(AGENT_COL, BASELINE_COL)"
   ]
  },
  {
   "cell_type": "code",
   "execution_count": 5,
   "metadata": {},
   "outputs": [
    {
     "name": "stdout",
     "output_type": "stream",
     "text": [
      "---\n",
      "Removal list len: 0 (datalen: 100)\n",
      "AGENT 0.81\n",
      "BASELINE 0.74\n",
      "---\n",
      "Removal list len: 10 (datalen: 90)\n",
      "AGENT 0.8111111111111111\n",
      "BASELINE 0.7333333333333333\n",
      "---\n",
      "Removal list len: 22 (datalen: 78)\n",
      "AGENT 0.8076923076923077\n",
      "BASELINE 0.7307692307692307\n",
      "---\n",
      "Removal list len: 30 (datalen: 70)\n",
      "AGENT 0.8142857142857143\n",
      "BASELINE 0.7285714285714285\n"
     ]
    }
   ],
   "source": [
    "# closest baseline to agent in our result: ArenaHard baseline\n",
    "\n",
    "i = 0\n",
    "AGENT_COL = f\"agent_gpt-4o-2024-05-13_synthetic_base-arenahard_gpt-4o-2024-05-13_n{i}\"\n",
    "BASELINE_COL = f\"arenahard_gpt-4o-2024-05-13_n{i}\"\n",
    "\n",
    "generate_accuracy_for_different_removal(AGENT_COL, BASELINE_COL)"
   ]
  },
  {
   "cell_type": "code",
   "execution_count": null,
   "metadata": {},
   "outputs": [],
   "source": []
  }
 ],
 "metadata": {
  "kernelspec": {
   "display_name": "Python 3 (ipykernel)",
   "language": "python",
   "name": "python3"
  },
  "language_info": {
   "codemirror_mode": {
    "name": "ipython",
    "version": 3
   },
   "file_extension": ".py",
   "mimetype": "text/x-python",
   "name": "python",
   "nbconvert_exporter": "python",
   "pygments_lexer": "ipython3",
   "version": "3.10.0"
  }
 },
 "nbformat": 4,
 "nbformat_minor": 4
}
