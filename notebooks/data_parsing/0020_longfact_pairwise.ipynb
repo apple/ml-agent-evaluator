{
 "cells": [
  {
   "cell_type": "code",
   "execution_count": null,
   "metadata": {},
   "outputs": [
    {
     "name": "stderr",
     "output_type": "stream",
     "text": [
      "\u001b[32m2025-06-24 13:54:54.884\u001b[0m | \u001b[34m\u001b[1mDEBUG   \u001b[0m | \u001b[36mageval.datasets.longfact\u001b[0m:\u001b[36m_load_longfact_data\u001b[0m:\u001b[36m31\u001b[0m - \u001b[34m\u001b[1mLoaded 38 topics with prompts from longfact.\u001b[0m\n"
     ]
    }
   ],
   "source": [
    "# For licensing see accompanying LICENSE file.\n",
    "# Copyright (C) 2025 Apple Inc. All Rights Reserved.\n",
    "#\n",
    "# Some of the code in this file is adapted from:\n",
    "# https://github.com/google-deepmind/long-form-factuality\n",
    "# Copyright (c) 2023 Sewon Min.\n",
    "# Licensed under the MIT License.\n",
    "#\n",
    "# prompts from SAFE paper\n",
    "\n",
    "from ageval.datasets.longfact import load_original_row_from_hashed_prompt\n",
    "from longfact_hashed_prompts import hashed_prompts\n",
    "import pathlib\n",
    "\n",
    "all_rows = load_original_row_from_hashed_prompt(\n",
    "    hashed_prompts=hashed_prompts,\n",
    "    path=pathlib.Path(\n",
    "        \"../../third_party/long_form_factuality/longfact/longfact-objects_gpt4_01-12-2024_noduplicates\"\n",
    "    ),\n",
    ")\n",
    "longfact_object_prompts = [row[\"prompt\"] for row in all_rows]\n",
    "\n",
    "# quick sanity checks\n",
    "assert len(set(longfact_object_prompts)) == len(longfact_object_prompts), (\n",
    "    \"Not all prompts are unique\"\n",
    ")  # all prompts should be unique\n",
    "assert (\n",
    "    len(set(longfact_object_prompts)) == 250\n",
    ")  # reported number of prompts in SAFE paper"
   ]
  },
  {
   "cell_type": "code",
   "execution_count": null,
   "metadata": {},
   "outputs": [],
   "source": [
    "from ageval.models import get_model\n",
    "from ageval.utils import setup_api_keys\n",
    "\n",
    "setup_api_keys(\"../../ageval_secrets.toml\")\n",
    "\n",
    "model = get_model(model=\"openai/gpt-4o-mini-2024-07-18\", max_tokens=\"2048\", temp=0.1)"
   ]
  },
  {
   "cell_type": "code",
   "execution_count": null,
   "metadata": {},
   "outputs": [],
   "source": [
    "# getting the pre-existing prompts\n",
    "# which have already been used to generate data\n",
    "prompt_path = pathlib.Path(\"../../data/generated/longfact/individual_generations_v7_100/prompts\")\n",
    "\n",
    "def load_txt(path: str | pathlib.Path) -> None:\n",
    "    with open(path, \"r\") as text_file:\n",
    "        return text_file.read()\n",
    "\n",
    "pre_existing_prompts = []\n",
    "for file in prompt_path.glob(\"*\"):\n",
    "    prompt = load_txt(file)\n",
    "    pre_existing_prompts.append(prompt)\n",
    "\n",
    "filtered_longfact_prompts = [prompt for prompt in longfact_object_prompts if prompt not in pre_existing_prompts]\n",
    "\n",
    "assert len(filtered_longfact_prompts) == len(longfact_object_prompts) - len(pre_existing_prompts)\n"
   ]
  },
  {
   "cell_type": "code",
   "execution_count": null,
   "metadata": {},
   "outputs": [],
   "source": [
    "import random\n",
    "import pathlib\n",
    "\n",
    "NUM_GENERATIONS = 20\n",
    "random.seed(42)\n",
    "rand_longfact_prompts = random.sample(filtered_longfact_prompts, len(filtered_longfact_prompts))\n",
    "\n",
    "def create_responses(start_idx, end_idx, prompts, num_sentences=8, save_path = \"../../data/generated/longfact/individual_generations\"):\n",
    "\n",
    "    save_path = pathlib.Path(save_path)\n",
    "    assert save_path.exists()\n",
    "\n",
    "\n",
    "    generations = []\n",
    "    postamble_base = \"Provide as many specific details and examples as possible (such as names of people, numbers, events, locations, dates, times, etc.).\" # from p.17 of SAFE paper\n",
    "    postamble_sent = f\" Respond in {num_sentences} sentences.\" # as described in appendix D.4 of SAFE paper\n",
    "    \n",
    "\n",
    "\n",
    "    def save_to_txt(text: str, path: str | pathlib.Path) -> None:\n",
    "        with open(path, \"w\") as text_file:\n",
    "            text_file.write(text)\n",
    "\n",
    "    for i in range(start_idx, end_idx):\n",
    "        prompt = prompts[i]\n",
    "        full_prompt = f\"{prompt} {postamble_base} {postamble_sent}\"\n",
    "        gen = {\n",
    "            \"prompt\": prompt,\n",
    "            \"generation\": model.invoke(full_prompt),\n",
    "            \"generation2\": model.invoke(full_prompt),\n",
    "        }\n",
    "\n",
    "        save_to_txt(gen[\"prompt\"], save_path / f\"prompts/n{i}.txt\")\n",
    "        save_to_txt(gen[\"generation\"], save_path / f\"generations/n{i}.txt\")\n",
    "        save_to_txt(gen[\"generation2\"], save_path / f\"alt_generations/n{i}.txt\")\n",
    "        save_to_txt(gen[\"generation\"], save_path / f\"adapted_generations/n{i}.txt\")\n",
    "\n",
    "        generations.append(gen)"
   ]
  },
  {
   "cell_type": "code",
   "execution_count": null,
   "metadata": {},
   "outputs": [],
   "source": [
    "len(rand_longfact_prompts)"
   ]
  },
  {
   "cell_type": "code",
   "execution_count": null,
   "metadata": {},
   "outputs": [],
   "source": [
    "# create_responses(start_idx=0,end_idx=20,num_sentences=8, prompts=rand_longfact_prompts)\n",
    "# create_responses(start_idx=20,end_idx=40,num_sentences=5, prompts=rand_longfact_prompts)\n",
    "# create_responses(start_idx=40,end_idx=250,num_sentences=5, prompts=rand_longfact_prompts)"
   ]
  },
  {
   "cell_type": "code",
   "execution_count": 1,
   "metadata": {},
   "outputs": [],
   "source": [
    "# save annotated data to csv\n",
    "\n",
    "import random\n",
    "import pathlib\n",
    "import pandas as pd\n",
    "\n",
    "def load_txt(path: str | pathlib.Path) -> None:\n",
    "    with open(path, \"r\") as text_file:\n",
    "        return text_file.read()\n",
    "     \n",
    "random.seed(5)\n",
    "preferred_idxs = random.choices([0,1], k=10000)\n",
    "\n",
    "save_path = pathlib.Path(\"../../data/generated/longfact/individual_generations_v8_fixflips\")\n",
    "rows = []\n",
    "\n",
    "for i in range(100):\n",
    "\n",
    "    alt_text = load_txt(save_path / f\"alt_generations/n{i}.txt\") # alternative text\n",
    "    adapted_text = load_txt(save_path / f\"adapted_generations/n{i}.txt\") # adapted text\n",
    "\n",
    "\n",
    "    if preferred_idxs[i] == 0:\n",
    "        text_a = alt_text\n",
    "        text_b = adapted_text\n",
    "        preferred_text = \"text_a\"\n",
    "    elif preferred_idxs[i] == 1:\n",
    "        text_a = adapted_text\n",
    "        text_b = alt_text\n",
    "        preferred_text = \"text_b\"\n",
    "\n",
    "    original = load_txt(save_path / f\"generations/n{i}.txt\")\n",
    "    prompt = load_txt(save_path / f\"prompts/n{i}.txt\")\n",
    "    alt_text_original = load_txt(save_path / f\"alt_generations_original/n{i}.txt\")\n",
    "\n",
    "    rows.append(\n",
    "        dict(\n",
    "            prompt = prompt,\n",
    "            text_a = text_a,\n",
    "            text_b = text_b,\n",
    "            original_text = original,\n",
    "            alt_text_original = alt_text_original,\n",
    "            preferred_text = preferred_text,\n",
    "        )\n",
    "    )\n",
    "pd.DataFrame(rows).to_csv(save_path / \"pref_data.csv\", index=True, index_label=\"index\")"
   ]
  },
  {
   "cell_type": "code",
   "execution_count": 2,
   "metadata": {},
   "outputs": [
    {
     "data": {
      "text/plain": [
       "50"
      ]
     },
     "execution_count": 2,
     "metadata": {},
     "output_type": "execute_result"
    }
   ],
   "source": [
    "preferred_idxs[:100].count(0)"
   ]
  },
  {
   "cell_type": "code",
   "execution_count": 3,
   "metadata": {},
   "outputs": [],
   "source": [
    "# generate pairwise data for POEM\n",
    "\n",
    "DATA_PATH = str(save_path / \"pref_data.csv\")"
   ]
  },
  {
   "cell_type": "code",
   "execution_count": 4,
   "metadata": {},
   "outputs": [],
   "source": [
    "df = pd.read_csv(DATA_PATH)\n",
    "\n",
    "json_dicts = []\n",
    "\n",
    "# to skip already annotated rows\n",
    "start_index = 40\n",
    "\n",
    "for i, row in df.iterrows():\n",
    "    if i < start_index:\n",
    "        continue\n",
    "    pref_text = row[row[\"preferred_text\"]]\n",
    "    nonpref_text_col = \"text_a\" if row[\"preferred_text\"] == \"text_b\" else \"text_b\"\n",
    "    nonpref_text = row[nonpref_text_col]\n",
    "\n",
    "    assert row[\"preferred_text\"] != nonpref_text_col, f\"{row['preferred_text']} == {nonpref_text_col}\"\n",
    "    assert nonpref_text != pref_text, f\"{nonpref_text} == {pref_text}\"\n",
    "\n",
    "\n",
    "    json_dicts.append(\n",
    "        {\n",
    "            \"prompt_id\": f\"longfact-pairwise-20240813-{i:07}\",\n",
    "            \"messages\":[\n",
    "                {\n",
    "                    \"role\": \"user\",\n",
    "                    \"content\": row[\"prompt\"],\n",
    "                }\n",
    "            ],\n",
    "            \"enrichments\":\n",
    "            {\n",
    "                \"task_type\": \"Open Q&A\",\n",
    "                \"topic\": \"other_v1.1\",\n",
    "                \"task_type_prob\": 1,\n",
    "                \"topic_prob\": 1,\n",
    "                \"meta\":{\"longfact-preferred\": \"text_1\"},\n",
    "            },\n",
    "            \"responses\":\n",
    "            {\n",
    "                \"text_1\":\n",
    "                {\n",
    "                    \"response\": pref_text,\n",
    "                    \"metadata\": {},\n",
    "                },\n",
    "                \"text_2\":\n",
    "                {\n",
    "                    \"response\": nonpref_text,\n",
    "                    \"metadata\": {},\n",
    "                },\n",
    "            }\n",
    "            }\n",
    "\n",
    "    )\n"
   ]
  },
  {
   "cell_type": "code",
   "execution_count": 5,
   "metadata": {},
   "outputs": [],
   "source": [
    "import json\n",
    "\n",
    "with open(save_path / \"longfact-40to99-20240813.jsonl\", \"w\") as f:\n",
    "    json.dump(json_dicts, f, indent=4)"
   ]
  },
  {
   "cell_type": "code",
   "execution_count": null,
   "metadata": {},
   "outputs": [],
   "source": []
  }
 ],
 "metadata": {
  "kernelspec": {
   "display_name": "ml-agent-evaluator",
   "language": "python",
   "name": "python3"
  },
  "language_info": {
   "codemirror_mode": {
    "name": "ipython",
    "version": 3
   },
   "file_extension": ".py",
   "mimetype": "text/x-python",
   "name": "python",
   "nbconvert_exporter": "python",
   "pygments_lexer": "ipython3",
   "version": "3.10.18"
  }
 },
 "nbformat": 4,
 "nbformat_minor": 4
}
