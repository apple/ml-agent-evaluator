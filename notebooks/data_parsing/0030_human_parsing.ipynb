{
 "cells": [
  {
   "cell_type": "code",
   "execution_count": null,
   "metadata": {},
   "outputs": [],
   "source": [
    "# For licensing see accompanying LICENSE file.\n",
    "# Copyright (C) 2025 Apple Inc. All Rights Reserved.\n",
    "# get human annotation data as csv\n",
    "\n",
    "import pandas as pd\n",
    "\n",
    "df = pd.read_csv(\"../../data/human/arduin-long-form-factuality-20240806-2255_(uep-119589).csv\")"
   ]
  },
  {
   "cell_type": "code",
   "execution_count": null,
   "metadata": {},
   "outputs": [],
   "source": [
    "# get original data that given to annotators\n",
    "# (this includes the ground-truth preference)\n",
    "\n",
    "import json\n",
    "\n",
    "with open(\"../../data/generated/longfact/individual_generations_v6_addmore/longfact-initial-test-20240805.jsonl\") as f:\n",
    "    data = json.load(f)\n",
    "    \n",
    "df_gt = pd.json_normalize(data) # this is a highly nested json, normalize it"
   ]
  },
  {
   "cell_type": "code",
   "execution_count": null,
   "metadata": {},
   "outputs": [],
   "source": [
    "# merge both datasets on prompt id\n",
    "\n",
    "full_df = pd.merge(df, df_gt, left_on=\"Prompt Id\", right_on=\"prompt_id\")"
   ]
  },
  {
   "cell_type": "code",
   "execution_count": null,
   "metadata": {},
   "outputs": [],
   "source": [
    "# get human preference from OPR rating\n",
    "\n",
    "def get_human_pref(row):\n",
    "    rating = row[\"Satisfaction OPR text_b,text_a\"]\n",
    "    if rating < 0:\n",
    "        return \"text_b\"\n",
    "    elif rating > 0:\n",
    "        return \"text_a\"\n",
    "    else:\n",
    "        return \"tie\"\n",
    "\n",
    "full_df[\"converted_ratings\"] = full_df.apply(get_human_pref, axis=1)\n",
    "\n",
    "# add columns with intuitive names\n",
    "full_df[[\"human_pref\", \"gt_pref\"]] = full_df[[\"converted_ratings\", \"enrichments.meta.longfact-preferred\"]]\n",
    "\n",
    "# add \n",
    "full_df[\"agreed\"] = full_df[\"human_pref\"] == full_df[\"gt_pref\"]"
   ]
  },
  {
   "cell_type": "code",
   "execution_count": null,
   "metadata": {},
   "outputs": [],
   "source": [
    "# get value counts of agreement\n",
    "full_df.agreed.value_counts()"
   ]
  },
  {
   "cell_type": "code",
   "execution_count": null,
   "metadata": {},
   "outputs": [],
   "source": [
    "# remove ties, and get value counts\n",
    "filtered_df = full_df.copy()\n",
    "filtered_df = filtered_df[filtered_df[\"human_pref\"] != \"tie\"]\n",
    "filtered_df.agreed.value_counts()"
   ]
  }
 ],
 "metadata": {
  "kernelspec": {
   "display_name": "Python 3 (ipykernel)",
   "language": "python",
   "name": "python3"
  },
  "language_info": {
   "codemirror_mode": {
    "name": "ipython",
    "version": 3
   },
   "file_extension": ".py",
   "mimetype": "text/x-python",
   "name": "python",
   "nbconvert_exporter": "python",
   "pygments_lexer": "ipython3",
   "version": "3.10.18"
  }
 },
 "nbformat": 4,
 "nbformat_minor": 4
}
